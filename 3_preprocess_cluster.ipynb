{
 "cells": [
  {
   "cell_type": "code",
   "execution_count": 1,
   "metadata": {},
   "outputs": [],
   "source": [
    "# Get file names\n",
    "data_file_name = 'Data/data_without_gps'\n",
    "data_file_name_withLatLon = 'Data/data_with_gps'"
   ]
  },
  {
   "cell_type": "code",
   "execution_count": 3,
   "metadata": {},
   "outputs": [],
   "source": [
    "import pandas as pd\n",
    "import numpy as np\n",
    "from sklearn.cluster import AgglomerativeClustering"
   ]
  },
  {
   "cell_type": "markdown",
   "metadata": {},
   "source": [
    "### Load data and process columns"
   ]
  },
  {
   "cell_type": "code",
   "execution_count": 4,
   "metadata": {},
   "outputs": [],
   "source": [
    "df = pd.read_csv(data_file_name+'.csv', index_col=0)\n",
    "df = df.rename(columns={'soc_pct':'SOC', 'odometer_km':'Mileage', 'vehicle_home':'Home'})\n",
    "for i, vin in enumerate(df['vin_id'].unique()):\n",
    "    df.loc[df.loc[df['vin_id']==vin].index, 'VINID'] = i+1 # Make integer version of vehicle ID number\n",
    "number_of_drivers = i+1"
   ]
  },
  {
   "cell_type": "code",
   "execution_count": 5,
   "metadata": {},
   "outputs": [],
   "source": [
    "# Convert timestamp to local time\n",
    "tmp = df.copy(deep=True)\n",
    "tmp['vehicle_timestamp_utc'] = pd.to_datetime(df['vehicle_timestamp_utc'], utc=True)\n",
    "tmp.index = tmp['vehicle_timestamp_utc']\n",
    "tmp = tmp.tz_convert(\"US/Pacific\")\n",
    "tmp = tmp.tz_localize(None)\n",
    "df['Timestamp Local'] = tmp.index.copy(deep=True)\n",
    "df['datetime'] = pd.to_datetime(df['Timestamp Local'])"
   ]
  },
  {
   "cell_type": "markdown",
   "metadata": {},
   "source": [
    "### Compare with previous time stamps"
   ]
  },
  {
   "cell_type": "code",
   "execution_count": 6,
   "metadata": {},
   "outputs": [],
   "source": [
    "for col in ['SOC', 'Home', 'Mileage']:\n",
    "    for driver in np.arange(1, number_of_drivers+1):\n",
    "        inds = df[df['VINID']==driver].index\n",
    "        df.loc[inds[np.arange(1, len(inds))], col+'-1'] = np.copy(df.loc[inds[np.arange(0, len(inds)-1)], col].values)\n",
    "        df.loc[inds[0], col+'-1'] = df.loc[inds[0], col]"
   ]
  },
  {
   "cell_type": "markdown",
   "metadata": {},
   "source": [
    "### Identify when drivers were stopped and/or charging"
   ]
  },
  {
   "cell_type": "code",
   "execution_count": null,
   "metadata": {},
   "outputs": [],
   "source": [
    "df2 = None\n",
    "\n",
    "df.loc[df.index, 'Status1'] = 'Driving'\n",
    "df.loc[df.index, 'Status1-1'] = 'Driving'\n",
    "df.loc[df.index, 'Status2'] = 'Unplugged'\n",
    "df.loc[df.index, 'SessionStart'] = False\n",
    "df.loc[df.index, 'ParkingStart'] = False\n",
    "\n",
    "for vinid in np.arange(1, number_of_drivers+1):\n",
    "    if np.mod(vinid, 5) == 0:\n",
    "        print('On driver ', vinid)\n",
    "\n",
    "    subset = df[df['VINID']==vinid].copy(deep=True)\n",
    "    # look for plateaus in mileage\n",
    "    stopped_mileages = subset[subset['Mileage-1']==subset['Mileage']]['Mileage'].unique() # stopped mileages\n",
    "    for mileage in stopped_mileages:\n",
    "        inds = subset[subset['Mileage']==mileage].index\n",
    "        subset.loc[inds, 'Status1'] = 'Parked'\n",
    "        socs = subset.loc[inds, 'SOC']\n",
    "        if (socs.max() - socs.min()) > 2: # Assume very small changes in SOC were just recalibrations/errors in the estimate\n",
    "            subset.loc[inds, 'Status2'] = 'Charging'\n",
    "\n",
    "    # Fill in status1 at the previous time step\n",
    "    subset.loc[subset.index[np.arange(1, len(subset))], 'Status1-1'] = np.copy(subset.loc[subset.index[np.arange(0, len(subset)-1)], 'Status1'].values)\n",
    "    subset.loc[subset.index[0], 'Status1-1'] = subset.loc[subset.index[0], 'Status1']\n",
    "    \n",
    "    # Identify starts of charging or parking\n",
    "    inds1 = subset.loc[(subset['Status1']=='Parked')&(subset['Status1-1']=='Driving')].index\n",
    "    inds2 = subset.loc[(subset['Status1']=='Parked')&(subset['Mileage-1']!=subset['Mileage'])].index\n",
    "    subset.loc[np.unique(np.sort(np.concatenate((inds1, inds2)))), 'ParkingStart'] = True\n",
    "    subset.loc[subset.loc[(subset['ParkingStart'])&(subset['Status2']=='Charging')].index, 'SessionStart'] = True\n",
    "    \n",
    "\n",
    "    # Concatenate with previous drivers\n",
    "    if df2 is not None:\n",
    "        df2 = pd.concat((df2, subset.copy(deep=True)), axis=0, sort=True)\n",
    "    else:\n",
    "        df2 = subset.copy(deep=True)"
   ]
  },
  {
   "cell_type": "code",
   "execution_count": 10,
   "metadata": {},
   "outputs": [],
   "source": [
    "# Save\n",
    "df2.to_csv(data_file_name+'_PROCESSED.csv', index=None)\n",
    "\n",
    "# indices of parking sessions to look at the locations: \n",
    "indices = pd.DataFrame({'Index':df2[df2['ParkingStart']==True].index})\n",
    "indices.to_csv('Data/StartOfParkingSession_Index_v3.csv')"
   ]
  },
  {
   "cell_type": "markdown",
   "metadata": {},
   "source": [
    "### Cluster Data with Locations\n",
    "\n",
    "Use Agglomerative Clustering with complete linkage: all points within a cluster are within 0.0005 (about 50 meters) of eachother. Does not require presetting the number of clusters."
   ]
  },
  {
   "cell_type": "code",
   "execution_count": null,
   "metadata": {},
   "outputs": [],
   "source": [
    "df_LatLon = pd.read_csv(data_file_name_withLatLon+'.csv', index_col=0) # the file with the gps data\n",
    "df_LatLon_subset = df_LatLon.loc[indices['Index'].values, :].copy(deep=True)"
   ]
  },
  {
   "cell_type": "code",
   "execution_count": null,
   "metadata": {},
   "outputs": [],
   "source": [
    "all_vins = df_LatLon_subset['vin_id'].unique() # list of vin_ids\n",
    "df_LatLon_subset.loc[df_LatLon_subset.index, 'ClusterLabel'] = np.nan # initialize new column\n",
    "\n",
    "for i, vinid in enumerate(all_vins): # for each driver\n",
    "    print('Driver Number '+str(i+1))\n",
    "    inds = df_LatLon_subset.loc[(df_LatLon_subset['vin_id']==vinid)].index # driver's indices\n",
    "    X = df_LatLon_subset.loc[inds, ['latitude', 'longitude']].values # data for clustering\n",
    "    clustering = AgglomerativeClustering(n_clusters=None, distance_threshold=0.0005, affinity='euclidean', linkage='complete').fit(X) # fit clustering\n",
    "    df_LatLon_subset.loc[inds, 'ClusterLabel_50m'] = clustering.labels_ # record labels\n",
    "    \n",
    "# Save labeling\n",
    "df_labels = df_LatLon_subset.loc[:, ['vin_id', 'odometer_km', 'vehicle_timestamp_utc', 'ClusterLabel_50m']] # changed from 'ClusterLabel' to 'ClusterLabel_50m'\n",
    "df_labels.to_csv('../Data/location_cluster_labels_50m_v3.csv')"
   ]
  },
  {
   "cell_type": "markdown",
   "metadata": {},
   "source": [
    "### Add to data file without locations and save"
   ]
  },
  {
   "cell_type": "code",
   "execution_count": null,
   "metadata": {},
   "outputs": [],
   "source": [
    "df2.loc[df_labels['index'].values, 'ClusterLabel_50m'] = df_labels['ClusterLabel_50m'].values # changed here from df_labels.index to df_labels['index'].values\n",
    "df2['datetime'] = pd.to_datetime(df2['datetime'])\n",
    "df2.loc[df2.index, 'EndTime'] = np.nan\n",
    "df2.loc[df2.index, 'Access_50m'] = False\n",
    "for vinid in np.arange(1, number_of_drivers+1):\n",
    "    # Look at all the stops made by this driver\n",
    "    inds = df2.loc[(df2['VINID']==vinid)&(df2['ClusterLabel_50m']==df2['ClusterLabel_50m'])].index\n",
    "    for i in inds: # Take the starting index of each stop\n",
    "        inds1 = df2.loc[(df['VINID']==df2.loc[i, 'VINID'])&(df2['Mileage']==df2.loc[i, 'Mileage'])].index\n",
    "        df2.loc[i, 'EndTime'] = df2.loc[inds1[-1], 'datetime'] # Note the end time of that session\n",
    "\n",
    "    # Look at each location labeled for this driver\n",
    "    locs = df2.loc[inds, 'ClusterLabel_50m'].unique()\n",
    "    for loc in locs:\n",
    "        inds2 = df2.loc[(df2['VINID']==vinid)&(df2['ClusterLabel_50m']==loc)].index\n",
    "        if df2.loc[inds2, 'SessionStart'].sum() > 0: # Did they ever charge there?\n",
    "            df2.loc[inds2, 'Access_50m'] = True  # Then they had access to charging there"
   ]
  },
  {
   "cell_type": "code",
   "execution_count": null,
   "metadata": {},
   "outputs": [],
   "source": [
    "df2.to_csv(data_file_name+'_PROCESSED_withAccess_withoutSpeeds.csv', index=None)"
   ]
  }
 ],
 "metadata": {
  "interpreter": {
   "hash": "79d71d161e7943240a345005223b4b57f09b9732a24e4917a9c0467b3aef16ea"
  },
  "kernelspec": {
   "display_name": "Python 3.9.12 ('base')",
   "language": "python",
   "name": "python3"
  },
  "language_info": {
   "codemirror_mode": {
    "name": "ipython",
    "version": 3
   },
   "file_extension": ".py",
   "mimetype": "text/x-python",
   "name": "python",
   "nbconvert_exporter": "python",
   "pygments_lexer": "ipython3",
   "version": "3.10.10"
  }
 },
 "nbformat": 4,
 "nbformat_minor": 2
}
