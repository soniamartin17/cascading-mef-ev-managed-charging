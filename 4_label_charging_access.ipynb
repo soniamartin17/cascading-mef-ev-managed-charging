{
 "cells": [
  {
   "cell_type": "code",
   "execution_count": 1,
   "metadata": {},
   "outputs": [],
   "source": [
    "import matplotlib.pyplot as plt\n",
    "import numpy as np\n",
    "import pandas as pd"
   ]
  },
  {
   "cell_type": "code",
   "execution_count": null,
   "metadata": {},
   "outputs": [],
   "source": [
    "df = pd.read_csv('../Data/data_PROCESSED_withAccess_withoutSpeeds.csv')\n",
    "df['datetime'] = pd.to_datetime(df['datetime'])\n"
   ]
  },
  {
   "cell_type": "markdown",
   "metadata": {},
   "source": [
    "## Charging Speed at Each Location"
   ]
  },
  {
   "cell_type": "code",
   "execution_count": null,
   "metadata": {
    "scrolled": true
   },
   "outputs": [],
   "source": [
    "n_drivers = int(df['VINID'].max())\n",
    "df.loc[df.index, 'Average_Charging_Rate_kW'] = np.nan\n",
    "df.loc[df.index, 'Max_Charging_Rate_kW'] = np.nan\n",
    "battcap = 83.6 # kWh #insert battery capacity here\n",
    "for vinid in np.arange(1, n_drivers+1):\n",
    "    print('VINID: ', vinid)\n",
    "    inds = df.loc[df['VINID']==vinid].index\n",
    "\n",
    "    subset = df.loc[inds].copy(deep=True)\n",
    "    mileages = subset[subset['SessionStart']]['Mileage'].values\n",
    "    for mile in mileages:\n",
    "#         first_point = subset.loc[(subset['Mileage']==mile)].index.values[0]\n",
    "        first_point = subset.loc[(subset['Mileage']==mile)&(subset['SOC']==subset.loc[subset['Mileage']==mile]['SOC'].min())].index.values[-1]\n",
    "        max_soc_point = subset.loc[(subset['Mileage']==mile)&(subset['SOC']==subset[(subset['Mileage']==mile)]['SOC'].max())].index.values[0]\n",
    "        time_seconds = (subset.loc[max_soc_point, 'datetime'] - subset.loc[first_point, 'datetime']).total_seconds()\n",
    "        soccharging = subset.loc[(subset['Mileage']==mile)]['SOC'].max() - subset.loc[(subset['Mileage']==mile)]['SOC'].min()\n",
    "        if soccharging > 2:\n",
    "            if time_seconds > 0:\n",
    "                average_rate = soccharging / 100 * battcap / (np.maximum(time_seconds, 60) / (60*60))\n",
    "                subset.loc[subset.loc[(subset['Mileage']==mile)].index, 'Average_Charging_Rate_kW'] = average_rate\n",
    "            else:\n",
    "                subset.loc[subset.loc[(subset['Mileage']==mile)].index, 'Average_Charging_Rate_kW'] = 0\n",
    "\n",
    "    for places in subset['ClusterLabel_50m'].unique():\n",
    "        if places == places:\n",
    "            inds1 = subset.loc[subset['ClusterLabel_50m']==places].index\n",
    "            mileages = subset.loc[inds1, 'Mileage'].unique()\n",
    "            \n",
    "            avg_rate_values=pd.Series(subset.loc[subset['Mileage'].isin(mileages)]['Average_Charging_Rate_kW'].sort_values().dropna().unique())\n",
    "            for outlier in range(1): # loop\n",
    "                if len(avg_rate_values)>1 and (avg_rate_values.iloc[-1]-avg_rate_values.iloc[-2])>10:\n",
    "                    avg_rate_values = avg_rate_values.drop(avg_rate_values.tail(1).index)\n",
    "            avg_rate_values = avg_rate_values.clip(0, 50)\n",
    "            subset.loc[subset.loc[subset['Mileage'].isin(mileages)].index, 'Max_Charging_Rate_kW'] = avg_rate_values.max()\n",
    "            \n",
    "        \n",
    "    df.loc[inds, ['Average_Charging_Rate_kW', 'Max_Charging_Rate_kW']] = subset.loc[:, ['Average_Charging_Rate_kW', 'Max_Charging_Rate_kW']].values\n",
    "    \n",
    "df.to_csv('Data/data_PROCESSED_withAccess_withSpeeds.csv')\n",
    "\n"
   ]
  }
 ],
 "metadata": {
  "kernelspec": {
   "display_name": "Python 3",
   "language": "python",
   "name": "python3"
  },
  "language_info": {
   "codemirror_mode": {
    "name": "ipython",
    "version": 3
   },
   "file_extension": ".py",
   "mimetype": "text/x-python",
   "name": "python",
   "nbconvert_exporter": "python",
   "pygments_lexer": "ipython3",
   "version": "3.7.4"
  }
 },
 "nbformat": 4,
 "nbformat_minor": 2
}
