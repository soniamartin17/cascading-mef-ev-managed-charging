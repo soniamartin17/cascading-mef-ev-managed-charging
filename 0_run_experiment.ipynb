{
 "cells": [
  {
   "cell_type": "markdown",
   "id": "492feef9",
   "metadata": {},
   "source": [
    "# Run Controlled Charging Algorithms\n",
    "### Run each cell in sequence to run the charging algorithm."
   ]
  },
  {
   "cell_type": "markdown",
   "id": "5aabb99d",
   "metadata": {},
   "source": [
    "### Set the simulation dates (start and end)"
   ]
  },
  {
   "cell_type": "code",
   "execution_count": null,
   "id": "e32b766d",
   "metadata": {},
   "outputs": [],
   "source": [
    "month1 = 1\n",
    "month2 = 1\n",
    "year1 = 2020    \n",
    "year2 = 2020\n",
    "day1 = 1\n",
    "day2 = 31"
   ]
  },
  {
   "cell_type": "markdown",
   "id": "70a24b5d",
   "metadata": {},
   "source": [
    "### Set charging timer and file paths"
   ]
  },
  {
   "cell_type": "code",
   "execution_count": null,
   "id": "059bd4ef",
   "metadata": {},
   "outputs": [],
   "source": [
    "charging_timer = True #can be set to True or False\n",
    "file_name_with_gps = 'Data/synthetic_data_with_gps'\n",
    "file_name_without_gps = 'Data/synthetic_data_without_gps'"
   ]
  },
  {
   "cell_type": "markdown",
   "id": "957ae33d",
   "metadata": {},
   "source": [
    "### Data processing - this cell only needs to be run once to process and save the grid model object and baseline charging profiles"
   ]
  },
  {
   "cell_type": "code",
   "execution_count": null,
   "id": "e5a1280f",
   "metadata": {},
   "outputs": [],
   "source": [
    "%run 1_create_grid_model_obj.py\n",
    "%run 2_calculate_historical_demand.py\n",
    "%run 3_preprocess_cluster.py {file_name_without_gps} {file_name_with_gps} \n",
    "%run 4_label_charging_access.py {file_name_without_gps}\n",
    "%run 5_calculate_baseline.py {month1} {month2} {year1} {year2} {day1} {day2} {charging_timer} {file_name_without_gps}"
   ]
  },
  {
   "cell_type": "markdown",
   "id": "10026e62",
   "metadata": {},
   "source": [
    "## Check if MOSEK license file is present (check works for Windows)"
   ]
  },
  {
   "cell_type": "code",
   "execution_count": null,
   "id": "2dd06e8c",
   "metadata": {},
   "outputs": [],
   "source": [
    "myusername = 'myusername'  # Replace with your actual username\n",
    "import os\n",
    "if os.path.exists(f'C:\\\\Users\\\\{myusername}\\\\mosek\\\\mosek.lic'):\n",
    "    print('License file is present and optimization can proceed.')\n",
    "else:\n",
    "    print('License file is missing. Please ensure that the license file is in the correct directory.')\n"
   ]
  },
  {
   "cell_type": "markdown",
   "id": "a20ebf2d",
   "metadata": {},
   "source": [
    "## Run controlled charging algorithms"
   ]
  },
  {
   "cell_type": "code",
   "execution_count": null,
   "id": "a0cf5fc8",
   "metadata": {},
   "outputs": [],
   "source": [
    "#There must be at least two vehicles in the dataset for the optimization to run successfully.\n",
    "\n",
    "# Set the year and control type for the optimization\n",
    "year = None #2020 or 2030\n",
    "year =2020\n",
    "control_type = None #'MEF', 'AEF','cascade', 'daytime', 'cacade_uncert'\n",
    "control_type = 'MEF' # Set to one of the control types: 'MEF', 'AEF', 'cascade', 'daytime', or 'cascade_uncert'\n",
    "\n",
    "if year is None:\n",
    "    print(\"Please set the 'year' variable to either 2020 or 2030.\")\n",
    "\n",
    "elif control_type is None:\n",
    "    print(\"Please set the 'control_type' variable to one of the following: 'MEF', 'AEF', 'cascade', 'daytime', or 'cascade_uncert'.\")\n",
    "\n",
    "else:\n",
    "    print(f\"Running optimization for year {year} with control type '{control_type}'...\")\n",
    "    if year == 2020 and control_type == 'MEF':\n",
    "        %run run_optimization_MEF.py {month1} {month2} {year1} {year2} {day1} {day2} {charging_timer}\n",
    "        print(\"Optimization completed successfully.\")\n",
    "    elif year == 2020 and control_type == 'AEF':\n",
    "        %run run_optimization_AEF.py {month1} {month2} {year1} {year2} {day1} {day2} {charging_timer}\n",
    "        print(\"Optimization completed successfully.\")\n",
    "    elif year == 2020 and control_type == 'cascade':\n",
    "        %run run_optimization_cascade.py {month1} {month2} {year1} {year2} {day1} {day2} {charging_timer}\n",
    "        print(\"Optimization completed successfully.\")\n",
    "    elif year == 2020 and control_type == 'daytime':    \n",
    "        %run run_optimization_daytime.py {month1} {month2} {year1} {year2} {day1} {day2} {charging_timer}\n",
    "        print(\"Optimization completed successfully.\")\n",
    "    elif year == 2020 and control_type == 'cascade_uncert':\n",
    "        %run run_optimization_cascade_uncertainty.py {month1} {month2} {year1} {year2} {day1} {day2} {charging_timer}\n",
    "        print(\"Optimization completed successfully.\")\n",
    "    elif year == 2030 and control_type == 'MEF':\n",
    "        %run run_optimization_MEF_2030.py {month1} {month2} {year1} {year2} {day1} {day2} {charging_timer}\n",
    "        print(\"Optimization completed successfully.\")\n",
    "    elif year == 2030 and control_type == 'AEF':\n",
    "        %run run_optimization_AEF_2030.py {month1} {month2} {year1} {year2} {day1} {day2} {charging_timer}\n",
    "        print(\"Optimization completed successfully.\")\n",
    "    elif year == 2030 and control_type == 'cascade':\n",
    "        %run run_optimization_cascade_2030.py {month1} {month2} {year1} {year2} {day1} {day2} {charging_timer}\n",
    "        print(\"Optimization completed successfully.\")\n",
    "    elif year == 2030 and control_type == 'daytime':\n",
    "        %run run_optimization_daytime_2030.py {month1} {month2} {year1} {year2} {day1} {day2} {charging_timer}\n",
    "        print(\"Optimization completed successfully.\")\n",
    "    elif year == 2030 and control_type == 'cascade_uncert':\n",
    "        %run run_optimization_cascade_uncertainty_2030.py {month1} {month2} {year1} {year2} {day1} {day2} {charging_timer}\n",
    "        print(\"Optimization completed successfully.\")\n",
    "    else:\n",
    "        print(\"Invalid combination of year and control type. Please check your inputs.\")\n",
    "\n",
    "    "
   ]
  }
 ],
 "metadata": {
  "kernelspec": {
   "display_name": ".venv",
   "language": "python",
   "name": "python3"
  },
  "language_info": {
   "codemirror_mode": {
    "name": "ipython",
    "version": 3
   },
   "file_extension": ".py",
   "mimetype": "text/x-python",
   "name": "python",
   "nbconvert_exporter": "python",
   "pygments_lexer": "ipython3",
   "version": "3.9.13"
  }
 },
 "nbformat": 4,
 "nbformat_minor": 5
}
