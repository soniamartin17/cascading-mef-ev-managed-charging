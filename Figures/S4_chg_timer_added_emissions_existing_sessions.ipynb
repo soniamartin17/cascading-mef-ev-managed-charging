{
 "cells": [
  {
   "cell_type": "code",
   "execution_count": 5,
   "metadata": {},
   "outputs": [],
   "source": [
    "import pandas as pd\n",
    "import numpy as np\n",
    "import matplotlib.pyplot as plt\n",
    "import pickle\n",
    "import os\n",
    "import warnings\n",
    "warnings.simplefilter(action='ignore', category=FutureWarning)\n",
    "\n",
    "#load generator data\n",
    "gds = {}\n",
    "gds[2019] = pickle.load(open('Data/generator_data_short_WECC_2019.obj', 'rb'))\n",
    "gds[2020] = pickle.load(open('Data/generator_data_short_WECC_2020.obj', 'rb'))\n",
    "\n",
    "colorset = ['#CC6677', '#332288', '#DDCC77', '#117733', '#88CCEE', '#882255', '#44AA99', '#999933', '#AA4499']\n",
    "'''Color list:\n",
    "indigo, cyan, teal, green, sand, rose, wine, olive, purple\n",
    "uncontrolled, color = colorset[0], '-*'\n",
    "mef normal all access, color = colorset[4], '-X'\n",
    "mef normal plugged, color = colorset[6]\n",
    "aef all access, color = colorset[3], \n",
    "aef plugged, color = colorset[1]\n",
    "mef cascade all access, color = colorset[5]\n",
    "mef cascade plugged, color = colorset[8]\n",
    "'''\n",
    " \n",
    "\n",
    "parent_dir = os.path.dirname(os.getcwd())\n",
    "\n",
    "path_string = parent_dir + '/Data/MEF/'\n",
    "path_string_aef = parent_dir + '/Data/AEF/'\n",
    "path_string_cascade = parent_dir + '/Data/MEF_Cascade/'\n",
    "path_string_2030 = parent_dir + '/Data/MEF_2030/'\n",
    "path_string_aef_2030 = parent_dir + '/Data/AEF_2030/'\n",
    "path_string_cascade_2030 = parent_dir + '/Data/MEF_2030_Cascade/'\n",
    "\n",
    "\n",
    "result_dates = ['20250604']"
   ]
  },
  {
   "cell_type": "code",
   "execution_count": 6,
   "metadata": {},
   "outputs": [],
   "source": [
    "def results_gperkwh_fxn_avg(numev_set, path_string, run_numbers, result_date, current_year = None, month=1):\n",
    "    '''Function to calculate average g/kWh for each run number and number of EVs added'''\n",
    "    if current_year == 2030:\n",
    "        #use 2020 for uncontrolled data\n",
    "        dpdf_year = '2020'\n",
    "        #get reference baseline projected 2030 demand\n",
    "\n",
    "        reference_df = pd.read_csv('Results/' +'2030_dpdf_'+'20220522'+ '.csv')\n",
    "\n",
    "    #default = 2020\n",
    "    else:\n",
    "        dpdf_year = '2020'\n",
    "        reference_df = pd.read_csv('Results/2020_dpdf_20220522.csv')\n",
    "\n",
    "    if month == 1:\n",
    "        time_period_string = '2020-01-01_to_2020-01-31'\n",
    "    elif month == 7: \n",
    "        time_period_string = '2020-07-01_to_2020-07-31'\n",
    "\n",
    "    results_gperkwh_avg = pd.DataFrame(index=numev_set, columns=['uncontrolled', 'uncontrolled_2s', 'varying_access', 'varying_plugged', 'varying_access_2s', 'varying_plugged_2s'])\n",
    "    for num_evs in numev_set:\n",
    "        results_gperkwh = pd.DataFrame(index=run_numbers, columns=['uncontrolled', 'varying_access', 'varying_plugged'])\n",
    "        for run_number in run_numbers:\n",
    "            df_total_uncontrolled = {}; df_uncontrolled_dpdf = {}\n",
    "            df_controlled_dpdf = {'varying':{'access':{}, 'plugged':{}}}\n",
    "            df_total_controlled = { 'varying':{'access':{}, 'plugged':{}}}\n",
    "    \n",
    "            #save uncontrolled demand data in df\n",
    "            df_total_uncontrolled[num_evs] = pd.read_csv(path_string + str(num_evs)+'EVs_added/Uncontrolled/demand_run'+run_number+'_'+time_period_string+'_'+result_date+'.csv', index_col=0)\n",
    "            df_total_uncontrolled[num_evs].datetime = pd.to_datetime(df_total_uncontrolled[num_evs].datetime)\n",
    "            df_uncontrolled_dpdf[num_evs] = pd.read_csv(path_string +str(num_evs)+'EVs_added/Uncontrolled/results_'+dpdf_year+'_run'+run_number+'_'+time_period_string+'_dpdf_'+result_date+'.csv')\n",
    "            df_uncontrolled_dpdf[num_evs].datetime = pd.to_datetime(df_uncontrolled_dpdf[num_evs].datetime)\n",
    "            \n",
    "            for signal1 in ['varying']:\n",
    "                try: #if have both plugged and access saved\n",
    "                    for signal2 in ['access', 'plugged']:\n",
    "                        df_total_controlled[signal1][signal2][num_evs] = pd.read_csv(path_string +str(num_evs)+'EVs_added/Controlled_'+str(signal1)+'_allaccess_'+str(signal2)+'_series/demand_run'+run_number+'_'+time_period_string+'_'+result_date+'.csv', index_col=0)\n",
    "                        df_total_controlled[signal1][signal2][num_evs].datetime = pd.to_datetime(df_total_controlled[signal1][signal2][num_evs].datetime)\n",
    "                        df_controlled_dpdf[signal1][signal2][num_evs] = pd.read_csv(path_string+str(num_evs)+'EVs_added/Controlled_'+str(signal1)+'_allaccess_'+str(signal2)+'_series/results_'+dpdf_year+'_run'+run_number+'_'+time_period_string+'_dpdf_'+result_date+'.csv')\n",
    "                        df_controlled_dpdf[signal1][signal2][num_evs].datetime = pd.to_datetime(df_controlled_dpdf[signal1][signal2][num_evs].datetime)\n",
    "                except: #if don't have plugged and access saved\n",
    "                    try:\n",
    "                        for signal2 in ['access']:\n",
    "                            df_total_controlled[signal1][signal2][num_evs] = pd.read_csv(path_string +str(num_evs)+'EVs_added/Controlled_'+str(signal1)+'_allaccess_'+str(signal2)+'_series/demand_run'+run_number+'_'+time_period_string+'_'+result_date+'.csv', index_col=0)\n",
    "                            df_total_controlled[signal1][signal2][num_evs].datetime = pd.to_datetime(df_total_controlled[signal1][signal2][num_evs].datetime)\n",
    "                            df_controlled_dpdf[signal1][signal2][num_evs] = pd.read_csv(path_string+str(num_evs)+'EVs_added/Controlled_'+str(signal1)+'_allaccess_'+str(signal2)+'_series/results_'+dpdf_year+'_run'+run_number+'_'+time_period_string+'_dpdf_'+result_date+'.csv')\n",
    "                            df_controlled_dpdf[signal1][signal2][num_evs].datetime = pd.to_datetime(df_controlled_dpdf[signal1][signal2][num_evs].datetime)\n",
    "                    except:\n",
    "                        for signal2 in ['plugged']:\n",
    "                            df_total_controlled[signal1][signal2][num_evs] = pd.read_csv(path_string +str(num_evs)+'EVs_added/Controlled_'+str(signal1)+'_allaccess_'+str(signal2)+'_series/demand_run'+run_number+'_'+time_period_string+'_'+result_date+'.csv', index_col=0)\n",
    "                            df_total_controlled[signal1][signal2][num_evs].datetime = pd.to_datetime(df_total_controlled[signal1][signal2][num_evs].datetime)\n",
    "                            df_controlled_dpdf[signal1][signal2][num_evs] = pd.read_csv(path_string+str(num_evs)+'EVs_added/Controlled_'+str(signal1)+'_allaccess_'+str(signal2)+'_series/results_'+dpdf_year+'_run'+run_number+'_'+time_period_string+'_dpdf_'+result_date+'.csv')\n",
    "                            df_controlled_dpdf[signal1][signal2][num_evs].datetime = pd.to_datetime(df_controlled_dpdf[signal1][signal2][num_evs].datetime)\n",
    "\n",
    "            #find dates to plot (inds)\n",
    "            signal1 = 'varying'\n",
    "            signal2 = 'access'\n",
    "            try:\n",
    "                dpdf_inds = df_uncontrolled_dpdf[num_evs][df_uncontrolled_dpdf[num_evs].datetime.dt.date.isin(df_total_controlled[signal1][signal2][num_evs].datetime.dt.date.unique())].index\n",
    "            except:\n",
    "                signal2 = 'plugged'\n",
    "                dpdf_inds = df_uncontrolled_dpdf[num_evs][df_uncontrolled_dpdf[num_evs].datetime.dt.date.isin(df_total_controlled[signal1][signal2][num_evs].datetime.dt.date.unique())].index\n",
    "\n",
    "            delta_co2 = df_uncontrolled_dpdf[num_evs].loc[dpdf_inds, 'co2_tot'].sum() - reference_df.loc[dpdf_inds, 'co2_tot'].sum()\n",
    "            delta_demand = df_uncontrolled_dpdf[num_evs].loc[dpdf_inds, 'demand'].sum() - reference_df.loc[dpdf_inds, 'demand'].sum()\n",
    "            #print(num_evs, run_number, delta_co2)\n",
    "            #print(num_evs, run_number, delta_demand)\n",
    "\n",
    "            \n",
    "            results_gperkwh.loc[run_number, 'uncontrolled'] = delta_co2/delta_demand\n",
    "            \n",
    "            signal1 = 'varying'\n",
    "            signal2_set = ['access', 'plugged']\n",
    "            try:\n",
    "                for signal2 in signal2_set:\n",
    "                    delta_co2 = df_controlled_dpdf[signal1][signal2][num_evs].loc[dpdf_inds, 'co2_tot'].sum() - reference_df.loc[dpdf_inds, 'co2_tot'].sum()\n",
    "                    delta_demand = df_controlled_dpdf[signal1][signal2][num_evs].loc[dpdf_inds, 'demand'].sum() - reference_df.loc[dpdf_inds, 'demand'].sum()\n",
    "                    results_gperkwh.loc[run_number, signal1+'_'+signal2] = delta_co2/delta_demand\n",
    "            except:\n",
    "                try:\n",
    "                    for signal2 in ['access']:\n",
    "                        delta_co2 = df_controlled_dpdf[signal1][signal2][num_evs].loc[dpdf_inds, 'co2_tot'].sum() - reference_df.loc[dpdf_inds, 'co2_tot'].sum()\n",
    "                        delta_demand = df_controlled_dpdf[signal1][signal2][num_evs].loc[dpdf_inds, 'demand'].sum() - reference_df.loc[dpdf_inds, 'demand'].sum()\n",
    "                        results_gperkwh.loc[run_number, signal1+'_'+signal2] = delta_co2/delta_demand\n",
    "                except:\n",
    "                    for signal2 in ['plugged']:\n",
    "                        delta_co2 = df_controlled_dpdf[signal1][signal2][num_evs].loc[dpdf_inds, 'co2_tot'].sum() - reference_df.loc[dpdf_inds, 'co2_tot'].sum()\n",
    "                        delta_demand = df_controlled_dpdf[signal1][signal2][num_evs].loc[dpdf_inds, 'demand'].sum() - reference_df.loc[dpdf_inds, 'demand'].sum()\n",
    "                        results_gperkwh.loc[run_number, signal1+'_'+signal2] = delta_co2/delta_demand\n",
    "        \n",
    "        results_gperkwh_avg.loc[num_evs, 'uncontrolled'] = np.average(results_gperkwh.loc[:, 'uncontrolled'])\n",
    "        results_gperkwh_avg.loc[num_evs, 'varying_access'] = np.nanmean(results_gperkwh.loc[:, 'varying_access'])\n",
    "        results_gperkwh_avg.loc[num_evs, 'varying_plugged'] = np.nanmean(results_gperkwh.loc[:, 'varying_plugged'])\n",
    "        results_gperkwh_avg.loc[num_evs, 'uncontrolled_2s'] = 2 * np.std(results_gperkwh.loc[:, 'uncontrolled'])\n",
    "        results_gperkwh_avg.loc[num_evs, 'varying_access_2s'] = 2 * np.std(results_gperkwh.loc[:, 'varying_access'])\n",
    "        results_gperkwh_avg.loc[num_evs, 'varying_plugged_2s'] = 2 * np.std(results_gperkwh.loc[:, 'varying_plugged'])\n",
    "\n",
    "    return results_gperkwh_avg"
   ]
  },
  {
   "attachments": {},
   "cell_type": "markdown",
   "metadata": {},
   "source": [
    "## Plot normalized added emissions"
   ]
  },
  {
   "cell_type": "code",
   "execution_count": 7,
   "metadata": {},
   "outputs": [],
   "source": [
    "def multi_run_plot(numev_set, results_gperkwh, results_gperkwh_aef, results_cascade, fig, axes, year2030=False, aef=False, title=False, save_name='totalemissions_adding_evs', to_plot = [0], cascade_2 = None, max_lim=675, legend_pos = 'lower right', annotation=None, fig_num=None):\n",
    "\n",
    "    xvals = numev_set\n",
    "    #uncontrolled, color = colorset[0]\n",
    "    #mef normal all access, color = colorset[4]\n",
    "    #mef normal plugged, color = colorset[6]\n",
    "    #aef all access, color = colorset[3]\n",
    "    #aef plugged, color = colorset[1]\n",
    "    #mef cascade all access, color = colorset[5]\n",
    "    #mef cascade plugged, color = colorset[8]\n",
    "\n",
    "    if np.sum(np.isin(0, to_plot)): # uncontrolled\n",
    "        axes.plot(xvals, results_gperkwh.uncontrolled, '*', label='Baseline', color = colorset[0], markersize=18)\n",
    "        axes.fill_between(xvals, np.array(results_gperkwh.uncontrolled - results_gperkwh.uncontrolled_2s, dtype=float), np.array(results_gperkwh.uncontrolled + results_gperkwh.uncontrolled_2s, dtype=float), alpha=0.6, linewidth=.6,color = colorset[0])\n",
    "    \n",
    "    if np.sum(np.isin(1, to_plot)): #sr-mef max sessions\n",
    "        axes.plot(xvals, results_gperkwh.varying_access, 'X', label='MEF, Max. Sessions', color=colorset[4], markersize=11)\n",
    "        axes.fill_between(xvals, np.array(results_gperkwh.varying_access - results_gperkwh.varying_access_2s, dtype=float), np.array(results_gperkwh.varying_access + results_gperkwh.varying_access_2s, dtype=float), alpha=0.6, linewidth=.6,color = colorset[4])\n",
    "    \n",
    "    if np.sum(np.isin(2, to_plot)): #sr-mef existing sessions\n",
    "        axes.plot(xvals, results_gperkwh.varying_plugged, 'o', label='MEF', color=colorset[6], markersize=13)\n",
    "        axes.fill_between(xvals, np.array(results_gperkwh.varying_plugged - results_gperkwh.varying_plugged_2s, dtype=float), np.array(results_gperkwh.varying_plugged + results_gperkwh.varying_plugged_2s, dtype=float), alpha=0.6, linewidth=.6,color = colorset[6])\n",
    "\n",
    "    if np.sum(np.isin(3, to_plot)): #aef max sessions\n",
    "        axes.plot(xvals, results_gperkwh_aef.varying_access, 's',  label='AEF, Max. Sessions', color=colorset[3], markersize=13)\n",
    "        axes.fill_between(xvals, np.array(results_gperkwh_aef.varying_access - results_gperkwh_aef.varying_access_2s, dtype=float), np.array(results_gperkwh_aef.varying_access + results_gperkwh_aef.varying_access_2s, dtype=float), alpha=0.6, linewidth=.6, color = colorset[3])\n",
    "    \n",
    "    if np.sum(np.isin(4, to_plot)): #aef existing sessions\n",
    "        axes.plot(xvals, results_gperkwh_aef.varying_plugged, 'P',  label='AEF', color=colorset[1], markersize=14)\n",
    "        axes.fill_between(xvals, np.array(results_gperkwh_aef.varying_plugged - results_gperkwh_aef.varying_plugged_2s, dtype=float), np.array(results_gperkwh_aef.varying_plugged + results_gperkwh_aef.varying_plugged_2s, dtype=float), alpha=0.6, linewidth=.6, color = colorset[1])\n",
    "\n",
    "\n",
    "    if cascade_2 is None:\n",
    "        if np.sum(np.isin(5, to_plot)): #mef cascade all access 20 groups\n",
    "            axes.plot(xvals, results_cascade.varying_access, 'd', label='Cascading MEF, Max. Sessions', color = colorset[5], markersize=14)\n",
    "            axes.fill_between(xvals, np.array(results_cascade.varying_access - results_cascade.varying_access_2s, dtype=float), np.array(results_cascade.varying_access + results_cascade.varying_access_2s, dtype=float), alpha=0.6, linewidth=.6, color = colorset[5])\n",
    "\n",
    "        if np.sum(np.isin(6, to_plot)): #mef cascade plugged 20 groups\n",
    "            axes.plot(xvals, results_cascade.varying_plugged, 'H', label='Cascading MEF', color = colorset[8], markersize=14)\n",
    "            axes.fill_between(xvals, np.array(results_cascade.varying_plugged - results_cascade.varying_plugged_2s, dtype=float), np.array(results_cascade.varying_plugged + results_cascade.varying_plugged_2s, dtype=float),alpha=0.6, linewidth=.6, color = colorset[8])\n",
    "\n",
    "\n",
    "    axes.set_xlim([-100000,numev_set[-1]+100000])\n",
    "    axes.set_xticks(np.linspace(0,numev_set[-1],5))\n",
    "    axes.set_xticklabels(['0', '500,000', '1,000,000', '1,500,000', '2,000,000'], fontsize=18)\n",
    "\n",
    "    axes.set_xlabel('Number of EVs Added', fontsize=20)\n",
    "   \n",
    "    axes.set_yticks(np.arange(350, max_lim, 50))\n",
    "    axes.set_yticklabels(np.arange(350, max_lim, 50), fontsize=20)\n",
    "    axes.set_ylabel('Added CO$_2$ Emissions [kg/MWh]', fontsize=20)\n",
    "    axes.legend(fontsize=13.5, loc=4)\n",
    "    axes.legend(fontsize=15.5, loc=legend_pos)\n",
    "    axes.annotate(annotation, xy=(0.02, 0.94), xycoords='axes fraction', fontsize=20, color='black')\n",
    "    axes.annotate(fig_num, xy=(-0.16, 1.08), xycoords='axes fraction', fontsize=24, color='black')\n",
    "  \n",
    "    axes.grid(axis='y')\n",
    "    if title:\n",
    "        pass\n",
    "\n",
    "    # plt.tight_layout()\n",
    "    # plt.savefig('Added_Emissions/'+save_name+'.pdf', bbox_inches='tight')\n",
    "    # plt.show()\n",
    "    return \n",
    "    "
   ]
  },
  {
   "cell_type": "markdown",
   "metadata": {},
   "source": [
    "##  Supplementary Fig. 4: "
   ]
  },
  {
   "cell_type": "code",
   "execution_count": 8,
   "metadata": {},
   "outputs": [
    {
     "ename": "FileNotFoundError",
     "evalue": "[Errno 2] No such file or directory: 'c:\\\\Users\\\\sonia\\\\Documents\\\\cascading-mef-evcontrol/Data/MEF/1000EVs_added/Controlled_varying_allaccess_plugged_series/demand_run0_2020-01-01_to_2020-01-31_20250604.csv'",
     "output_type": "error",
     "traceback": [
      "\u001b[1;31m---------------------------------------------------------------------------\u001b[0m",
      "\u001b[1;31mFileNotFoundError\u001b[0m                         Traceback (most recent call last)",
      "Cell \u001b[1;32mIn[6], line 39\u001b[0m, in \u001b[0;36mresults_gperkwh_fxn_avg\u001b[1;34m(numev_set, path_string, run_numbers, result_date, current_year, month)\u001b[0m\n\u001b[0;32m     38\u001b[0m df_total_controlled[signal1][signal2][num_evs]\u001b[38;5;241m.\u001b[39mdatetime \u001b[38;5;241m=\u001b[39m pd\u001b[38;5;241m.\u001b[39mto_datetime(df_total_controlled[signal1][signal2][num_evs]\u001b[38;5;241m.\u001b[39mdatetime)\n\u001b[1;32m---> 39\u001b[0m df_controlled_dpdf[signal1][signal2][num_evs] \u001b[38;5;241m=\u001b[39m \u001b[43mpd\u001b[49m\u001b[38;5;241;43m.\u001b[39;49m\u001b[43mread_csv\u001b[49m\u001b[43m(\u001b[49m\u001b[43mpath_string\u001b[49m\u001b[38;5;241;43m+\u001b[39;49m\u001b[38;5;28;43mstr\u001b[39;49m\u001b[43m(\u001b[49m\u001b[43mnum_evs\u001b[49m\u001b[43m)\u001b[49m\u001b[38;5;241;43m+\u001b[39;49m\u001b[38;5;124;43m'\u001b[39;49m\u001b[38;5;124;43mEVs_added/Controlled_\u001b[39;49m\u001b[38;5;124;43m'\u001b[39;49m\u001b[38;5;241;43m+\u001b[39;49m\u001b[38;5;28;43mstr\u001b[39;49m\u001b[43m(\u001b[49m\u001b[43msignal1\u001b[49m\u001b[43m)\u001b[49m\u001b[38;5;241;43m+\u001b[39;49m\u001b[38;5;124;43m'\u001b[39;49m\u001b[38;5;124;43m_allaccess_\u001b[39;49m\u001b[38;5;124;43m'\u001b[39;49m\u001b[38;5;241;43m+\u001b[39;49m\u001b[38;5;28;43mstr\u001b[39;49m\u001b[43m(\u001b[49m\u001b[43msignal2\u001b[49m\u001b[43m)\u001b[49m\u001b[38;5;241;43m+\u001b[39;49m\u001b[38;5;124;43m'\u001b[39;49m\u001b[38;5;124;43m_series/results_\u001b[39;49m\u001b[38;5;124;43m'\u001b[39;49m\u001b[38;5;241;43m+\u001b[39;49m\u001b[43mdpdf_year\u001b[49m\u001b[38;5;241;43m+\u001b[39;49m\u001b[38;5;124;43m'\u001b[39;49m\u001b[38;5;124;43m_run\u001b[39;49m\u001b[38;5;124;43m'\u001b[39;49m\u001b[38;5;241;43m+\u001b[39;49m\u001b[43mrun_number\u001b[49m\u001b[38;5;241;43m+\u001b[39;49m\u001b[38;5;124;43m'\u001b[39;49m\u001b[38;5;124;43m_\u001b[39;49m\u001b[38;5;124;43m'\u001b[39;49m\u001b[38;5;241;43m+\u001b[39;49m\u001b[43mtime_period_string\u001b[49m\u001b[38;5;241;43m+\u001b[39;49m\u001b[38;5;124;43m'\u001b[39;49m\u001b[38;5;124;43m_dpdf_\u001b[39;49m\u001b[38;5;124;43m'\u001b[39;49m\u001b[38;5;241;43m+\u001b[39;49m\u001b[43mresult_date\u001b[49m\u001b[38;5;241;43m+\u001b[39;49m\u001b[38;5;124;43m'\u001b[39;49m\u001b[38;5;124;43m.csv\u001b[39;49m\u001b[38;5;124;43m'\u001b[39;49m\u001b[43m)\u001b[49m\n\u001b[0;32m     40\u001b[0m df_controlled_dpdf[signal1][signal2][num_evs]\u001b[38;5;241m.\u001b[39mdatetime \u001b[38;5;241m=\u001b[39m pd\u001b[38;5;241m.\u001b[39mto_datetime(df_controlled_dpdf[signal1][signal2][num_evs]\u001b[38;5;241m.\u001b[39mdatetime)\n",
      "File \u001b[1;32mc:\\Users\\sonia\\Documents\\cascading-mef-evcontrol\\.venv\\lib\\site-packages\\pandas\\util\\_decorators.py:311\u001b[0m, in \u001b[0;36mdeprecate_nonkeyword_arguments.<locals>.decorate.<locals>.wrapper\u001b[1;34m(*args, **kwargs)\u001b[0m\n\u001b[0;32m    306\u001b[0m     warnings\u001b[38;5;241m.\u001b[39mwarn(\n\u001b[0;32m    307\u001b[0m         msg\u001b[38;5;241m.\u001b[39mformat(arguments\u001b[38;5;241m=\u001b[39marguments),\n\u001b[0;32m    308\u001b[0m         \u001b[38;5;167;01mFutureWarning\u001b[39;00m,\n\u001b[0;32m    309\u001b[0m         stacklevel\u001b[38;5;241m=\u001b[39mstacklevel,\n\u001b[0;32m    310\u001b[0m     )\n\u001b[1;32m--> 311\u001b[0m \u001b[38;5;28;01mreturn\u001b[39;00m func(\u001b[38;5;241m*\u001b[39margs, \u001b[38;5;241m*\u001b[39m\u001b[38;5;241m*\u001b[39mkwargs)\n",
      "File \u001b[1;32mc:\\Users\\sonia\\Documents\\cascading-mef-evcontrol\\.venv\\lib\\site-packages\\pandas\\io\\parsers\\readers.py:586\u001b[0m, in \u001b[0;36mread_csv\u001b[1;34m(filepath_or_buffer, sep, delimiter, header, names, index_col, usecols, squeeze, prefix, mangle_dupe_cols, dtype, engine, converters, true_values, false_values, skipinitialspace, skiprows, skipfooter, nrows, na_values, keep_default_na, na_filter, verbose, skip_blank_lines, parse_dates, infer_datetime_format, keep_date_col, date_parser, dayfirst, cache_dates, iterator, chunksize, compression, thousands, decimal, lineterminator, quotechar, quoting, doublequote, escapechar, comment, encoding, encoding_errors, dialect, error_bad_lines, warn_bad_lines, on_bad_lines, delim_whitespace, low_memory, memory_map, float_precision, storage_options)\u001b[0m\n\u001b[0;32m    584\u001b[0m kwds\u001b[38;5;241m.\u001b[39mupdate(kwds_defaults)\n\u001b[1;32m--> 586\u001b[0m \u001b[38;5;28;01mreturn\u001b[39;00m \u001b[43m_read\u001b[49m\u001b[43m(\u001b[49m\u001b[43mfilepath_or_buffer\u001b[49m\u001b[43m,\u001b[49m\u001b[43m \u001b[49m\u001b[43mkwds\u001b[49m\u001b[43m)\u001b[49m\n",
      "File \u001b[1;32mc:\\Users\\sonia\\Documents\\cascading-mef-evcontrol\\.venv\\lib\\site-packages\\pandas\\io\\parsers\\readers.py:482\u001b[0m, in \u001b[0;36m_read\u001b[1;34m(filepath_or_buffer, kwds)\u001b[0m\n\u001b[0;32m    481\u001b[0m \u001b[38;5;66;03m# Create the parser.\u001b[39;00m\n\u001b[1;32m--> 482\u001b[0m parser \u001b[38;5;241m=\u001b[39m TextFileReader(filepath_or_buffer, \u001b[38;5;241m*\u001b[39m\u001b[38;5;241m*\u001b[39mkwds)\n\u001b[0;32m    484\u001b[0m \u001b[38;5;28;01mif\u001b[39;00m chunksize \u001b[38;5;129;01mor\u001b[39;00m iterator:\n",
      "File \u001b[1;32mc:\\Users\\sonia\\Documents\\cascading-mef-evcontrol\\.venv\\lib\\site-packages\\pandas\\io\\parsers\\readers.py:811\u001b[0m, in \u001b[0;36mTextFileReader.__init__\u001b[1;34m(self, f, engine, **kwds)\u001b[0m\n\u001b[0;32m    809\u001b[0m     \u001b[38;5;28mself\u001b[39m\u001b[38;5;241m.\u001b[39moptions[\u001b[38;5;124m\"\u001b[39m\u001b[38;5;124mhas_index_names\u001b[39m\u001b[38;5;124m\"\u001b[39m] \u001b[38;5;241m=\u001b[39m kwds[\u001b[38;5;124m\"\u001b[39m\u001b[38;5;124mhas_index_names\u001b[39m\u001b[38;5;124m\"\u001b[39m]\n\u001b[1;32m--> 811\u001b[0m \u001b[38;5;28mself\u001b[39m\u001b[38;5;241m.\u001b[39m_engine \u001b[38;5;241m=\u001b[39m \u001b[38;5;28;43mself\u001b[39;49m\u001b[38;5;241;43m.\u001b[39;49m\u001b[43m_make_engine\u001b[49m\u001b[43m(\u001b[49m\u001b[38;5;28;43mself\u001b[39;49m\u001b[38;5;241;43m.\u001b[39;49m\u001b[43mengine\u001b[49m\u001b[43m)\u001b[49m\n",
      "File \u001b[1;32mc:\\Users\\sonia\\Documents\\cascading-mef-evcontrol\\.venv\\lib\\site-packages\\pandas\\io\\parsers\\readers.py:1040\u001b[0m, in \u001b[0;36mTextFileReader._make_engine\u001b[1;34m(self, engine)\u001b[0m\n\u001b[0;32m   1039\u001b[0m \u001b[38;5;66;03m# error: Too many arguments for \"ParserBase\"\u001b[39;00m\n\u001b[1;32m-> 1040\u001b[0m \u001b[38;5;28;01mreturn\u001b[39;00m mapping[engine](\u001b[38;5;28mself\u001b[39m\u001b[38;5;241m.\u001b[39mf, \u001b[38;5;241m*\u001b[39m\u001b[38;5;241m*\u001b[39m\u001b[38;5;28mself\u001b[39m\u001b[38;5;241m.\u001b[39moptions)\n",
      "File \u001b[1;32mc:\\Users\\sonia\\Documents\\cascading-mef-evcontrol\\.venv\\lib\\site-packages\\pandas\\io\\parsers\\c_parser_wrapper.py:51\u001b[0m, in \u001b[0;36mCParserWrapper.__init__\u001b[1;34m(self, src, **kwds)\u001b[0m\n\u001b[0;32m     50\u001b[0m \u001b[38;5;66;03m# open handles\u001b[39;00m\n\u001b[1;32m---> 51\u001b[0m \u001b[38;5;28;43mself\u001b[39;49m\u001b[38;5;241;43m.\u001b[39;49m\u001b[43m_open_handles\u001b[49m\u001b[43m(\u001b[49m\u001b[43msrc\u001b[49m\u001b[43m,\u001b[49m\u001b[43m \u001b[49m\u001b[43mkwds\u001b[49m\u001b[43m)\u001b[49m\n\u001b[0;32m     52\u001b[0m \u001b[38;5;28;01massert\u001b[39;00m \u001b[38;5;28mself\u001b[39m\u001b[38;5;241m.\u001b[39mhandles \u001b[38;5;129;01mis\u001b[39;00m \u001b[38;5;129;01mnot\u001b[39;00m \u001b[38;5;28;01mNone\u001b[39;00m\n",
      "File \u001b[1;32mc:\\Users\\sonia\\Documents\\cascading-mef-evcontrol\\.venv\\lib\\site-packages\\pandas\\io\\parsers\\base_parser.py:222\u001b[0m, in \u001b[0;36mParserBase._open_handles\u001b[1;34m(self, src, kwds)\u001b[0m\n\u001b[0;32m    219\u001b[0m \u001b[38;5;250m\u001b[39m\u001b[38;5;124;03m\"\"\"\u001b[39;00m\n\u001b[0;32m    220\u001b[0m \u001b[38;5;124;03mLet the readers open IOHandles after they are done with their potential raises.\u001b[39;00m\n\u001b[0;32m    221\u001b[0m \u001b[38;5;124;03m\"\"\"\u001b[39;00m\n\u001b[1;32m--> 222\u001b[0m \u001b[38;5;28mself\u001b[39m\u001b[38;5;241m.\u001b[39mhandles \u001b[38;5;241m=\u001b[39m \u001b[43mget_handle\u001b[49m\u001b[43m(\u001b[49m\n\u001b[0;32m    223\u001b[0m \u001b[43m    \u001b[49m\u001b[43msrc\u001b[49m\u001b[43m,\u001b[49m\n\u001b[0;32m    224\u001b[0m \u001b[43m    \u001b[49m\u001b[38;5;124;43m\"\u001b[39;49m\u001b[38;5;124;43mr\u001b[39;49m\u001b[38;5;124;43m\"\u001b[39;49m\u001b[43m,\u001b[49m\n\u001b[0;32m    225\u001b[0m \u001b[43m    \u001b[49m\u001b[43mencoding\u001b[49m\u001b[38;5;241;43m=\u001b[39;49m\u001b[43mkwds\u001b[49m\u001b[38;5;241;43m.\u001b[39;49m\u001b[43mget\u001b[49m\u001b[43m(\u001b[49m\u001b[38;5;124;43m\"\u001b[39;49m\u001b[38;5;124;43mencoding\u001b[39;49m\u001b[38;5;124;43m\"\u001b[39;49m\u001b[43m,\u001b[49m\u001b[43m \u001b[49m\u001b[38;5;28;43;01mNone\u001b[39;49;00m\u001b[43m)\u001b[49m\u001b[43m,\u001b[49m\n\u001b[0;32m    226\u001b[0m \u001b[43m    \u001b[49m\u001b[43mcompression\u001b[49m\u001b[38;5;241;43m=\u001b[39;49m\u001b[43mkwds\u001b[49m\u001b[38;5;241;43m.\u001b[39;49m\u001b[43mget\u001b[49m\u001b[43m(\u001b[49m\u001b[38;5;124;43m\"\u001b[39;49m\u001b[38;5;124;43mcompression\u001b[39;49m\u001b[38;5;124;43m\"\u001b[39;49m\u001b[43m,\u001b[49m\u001b[43m \u001b[49m\u001b[38;5;28;43;01mNone\u001b[39;49;00m\u001b[43m)\u001b[49m\u001b[43m,\u001b[49m\n\u001b[0;32m    227\u001b[0m \u001b[43m    \u001b[49m\u001b[43mmemory_map\u001b[49m\u001b[38;5;241;43m=\u001b[39;49m\u001b[43mkwds\u001b[49m\u001b[38;5;241;43m.\u001b[39;49m\u001b[43mget\u001b[49m\u001b[43m(\u001b[49m\u001b[38;5;124;43m\"\u001b[39;49m\u001b[38;5;124;43mmemory_map\u001b[39;49m\u001b[38;5;124;43m\"\u001b[39;49m\u001b[43m,\u001b[49m\u001b[43m \u001b[49m\u001b[38;5;28;43;01mFalse\u001b[39;49;00m\u001b[43m)\u001b[49m\u001b[43m,\u001b[49m\n\u001b[0;32m    228\u001b[0m \u001b[43m    \u001b[49m\u001b[43mstorage_options\u001b[49m\u001b[38;5;241;43m=\u001b[39;49m\u001b[43mkwds\u001b[49m\u001b[38;5;241;43m.\u001b[39;49m\u001b[43mget\u001b[49m\u001b[43m(\u001b[49m\u001b[38;5;124;43m\"\u001b[39;49m\u001b[38;5;124;43mstorage_options\u001b[39;49m\u001b[38;5;124;43m\"\u001b[39;49m\u001b[43m,\u001b[49m\u001b[43m \u001b[49m\u001b[38;5;28;43;01mNone\u001b[39;49;00m\u001b[43m)\u001b[49m\u001b[43m,\u001b[49m\n\u001b[0;32m    229\u001b[0m \u001b[43m    \u001b[49m\u001b[43merrors\u001b[49m\u001b[38;5;241;43m=\u001b[39;49m\u001b[43mkwds\u001b[49m\u001b[38;5;241;43m.\u001b[39;49m\u001b[43mget\u001b[49m\u001b[43m(\u001b[49m\u001b[38;5;124;43m\"\u001b[39;49m\u001b[38;5;124;43mencoding_errors\u001b[39;49m\u001b[38;5;124;43m\"\u001b[39;49m\u001b[43m,\u001b[49m\u001b[43m \u001b[49m\u001b[38;5;124;43m\"\u001b[39;49m\u001b[38;5;124;43mstrict\u001b[39;49m\u001b[38;5;124;43m\"\u001b[39;49m\u001b[43m)\u001b[49m\u001b[43m,\u001b[49m\n\u001b[0;32m    230\u001b[0m \u001b[43m\u001b[49m\u001b[43m)\u001b[49m\n",
      "File \u001b[1;32mc:\\Users\\sonia\\Documents\\cascading-mef-evcontrol\\.venv\\lib\\site-packages\\pandas\\io\\common.py:701\u001b[0m, in \u001b[0;36mget_handle\u001b[1;34m(path_or_buf, mode, encoding, compression, memory_map, is_text, errors, storage_options)\u001b[0m\n\u001b[0;32m    699\u001b[0m \u001b[38;5;28;01mif\u001b[39;00m ioargs\u001b[38;5;241m.\u001b[39mencoding \u001b[38;5;129;01mand\u001b[39;00m \u001b[38;5;124m\"\u001b[39m\u001b[38;5;124mb\u001b[39m\u001b[38;5;124m\"\u001b[39m \u001b[38;5;129;01mnot\u001b[39;00m \u001b[38;5;129;01min\u001b[39;00m ioargs\u001b[38;5;241m.\u001b[39mmode:\n\u001b[0;32m    700\u001b[0m     \u001b[38;5;66;03m# Encoding\u001b[39;00m\n\u001b[1;32m--> 701\u001b[0m     handle \u001b[38;5;241m=\u001b[39m \u001b[38;5;28;43mopen\u001b[39;49m\u001b[43m(\u001b[49m\n\u001b[0;32m    702\u001b[0m \u001b[43m        \u001b[49m\u001b[43mhandle\u001b[49m\u001b[43m,\u001b[49m\n\u001b[0;32m    703\u001b[0m \u001b[43m        \u001b[49m\u001b[43mioargs\u001b[49m\u001b[38;5;241;43m.\u001b[39;49m\u001b[43mmode\u001b[49m\u001b[43m,\u001b[49m\n\u001b[0;32m    704\u001b[0m \u001b[43m        \u001b[49m\u001b[43mencoding\u001b[49m\u001b[38;5;241;43m=\u001b[39;49m\u001b[43mioargs\u001b[49m\u001b[38;5;241;43m.\u001b[39;49m\u001b[43mencoding\u001b[49m\u001b[43m,\u001b[49m\n\u001b[0;32m    705\u001b[0m \u001b[43m        \u001b[49m\u001b[43merrors\u001b[49m\u001b[38;5;241;43m=\u001b[39;49m\u001b[43merrors\u001b[49m\u001b[43m,\u001b[49m\n\u001b[0;32m    706\u001b[0m \u001b[43m        \u001b[49m\u001b[43mnewline\u001b[49m\u001b[38;5;241;43m=\u001b[39;49m\u001b[38;5;124;43m\"\u001b[39;49m\u001b[38;5;124;43m\"\u001b[39;49m\u001b[43m,\u001b[49m\n\u001b[0;32m    707\u001b[0m \u001b[43m    \u001b[49m\u001b[43m)\u001b[49m\n\u001b[0;32m    708\u001b[0m \u001b[38;5;28;01melse\u001b[39;00m:\n\u001b[0;32m    709\u001b[0m     \u001b[38;5;66;03m# Binary mode\u001b[39;00m\n",
      "\u001b[1;31mFileNotFoundError\u001b[0m: [Errno 2] No such file or directory: 'c:\\\\Users\\\\sonia\\\\Documents\\\\cascading-mef-evcontrol/Data/MEF/1000EVs_added/Controlled_varying_allaccess_access_series/results_2020_run0_2020-01-01_to_2020-01-31_dpdf_20250604.csv'",
      "\nDuring handling of the above exception, another exception occurred:\n",
      "\u001b[1;31mFileNotFoundError\u001b[0m                         Traceback (most recent call last)",
      "Cell \u001b[1;32mIn[6], line 46\u001b[0m, in \u001b[0;36mresults_gperkwh_fxn_avg\u001b[1;34m(numev_set, path_string, run_numbers, result_date, current_year, month)\u001b[0m\n\u001b[0;32m     45\u001b[0m df_total_controlled[signal1][signal2][num_evs]\u001b[38;5;241m.\u001b[39mdatetime \u001b[38;5;241m=\u001b[39m pd\u001b[38;5;241m.\u001b[39mto_datetime(df_total_controlled[signal1][signal2][num_evs]\u001b[38;5;241m.\u001b[39mdatetime)\n\u001b[1;32m---> 46\u001b[0m df_controlled_dpdf[signal1][signal2][num_evs] \u001b[38;5;241m=\u001b[39m \u001b[43mpd\u001b[49m\u001b[38;5;241;43m.\u001b[39;49m\u001b[43mread_csv\u001b[49m\u001b[43m(\u001b[49m\u001b[43mpath_string\u001b[49m\u001b[38;5;241;43m+\u001b[39;49m\u001b[38;5;28;43mstr\u001b[39;49m\u001b[43m(\u001b[49m\u001b[43mnum_evs\u001b[49m\u001b[43m)\u001b[49m\u001b[38;5;241;43m+\u001b[39;49m\u001b[38;5;124;43m'\u001b[39;49m\u001b[38;5;124;43mEVs_added/Controlled_\u001b[39;49m\u001b[38;5;124;43m'\u001b[39;49m\u001b[38;5;241;43m+\u001b[39;49m\u001b[38;5;28;43mstr\u001b[39;49m\u001b[43m(\u001b[49m\u001b[43msignal1\u001b[49m\u001b[43m)\u001b[49m\u001b[38;5;241;43m+\u001b[39;49m\u001b[38;5;124;43m'\u001b[39;49m\u001b[38;5;124;43m_allaccess_\u001b[39;49m\u001b[38;5;124;43m'\u001b[39;49m\u001b[38;5;241;43m+\u001b[39;49m\u001b[38;5;28;43mstr\u001b[39;49m\u001b[43m(\u001b[49m\u001b[43msignal2\u001b[49m\u001b[43m)\u001b[49m\u001b[38;5;241;43m+\u001b[39;49m\u001b[38;5;124;43m'\u001b[39;49m\u001b[38;5;124;43m_series/results_\u001b[39;49m\u001b[38;5;124;43m'\u001b[39;49m\u001b[38;5;241;43m+\u001b[39;49m\u001b[43mdpdf_year\u001b[49m\u001b[38;5;241;43m+\u001b[39;49m\u001b[38;5;124;43m'\u001b[39;49m\u001b[38;5;124;43m_run\u001b[39;49m\u001b[38;5;124;43m'\u001b[39;49m\u001b[38;5;241;43m+\u001b[39;49m\u001b[43mrun_number\u001b[49m\u001b[38;5;241;43m+\u001b[39;49m\u001b[38;5;124;43m'\u001b[39;49m\u001b[38;5;124;43m_\u001b[39;49m\u001b[38;5;124;43m'\u001b[39;49m\u001b[38;5;241;43m+\u001b[39;49m\u001b[43mtime_period_string\u001b[49m\u001b[38;5;241;43m+\u001b[39;49m\u001b[38;5;124;43m'\u001b[39;49m\u001b[38;5;124;43m_dpdf_\u001b[39;49m\u001b[38;5;124;43m'\u001b[39;49m\u001b[38;5;241;43m+\u001b[39;49m\u001b[43mresult_date\u001b[49m\u001b[38;5;241;43m+\u001b[39;49m\u001b[38;5;124;43m'\u001b[39;49m\u001b[38;5;124;43m.csv\u001b[39;49m\u001b[38;5;124;43m'\u001b[39;49m\u001b[43m)\u001b[49m\n\u001b[0;32m     47\u001b[0m df_controlled_dpdf[signal1][signal2][num_evs]\u001b[38;5;241m.\u001b[39mdatetime \u001b[38;5;241m=\u001b[39m pd\u001b[38;5;241m.\u001b[39mto_datetime(df_controlled_dpdf[signal1][signal2][num_evs]\u001b[38;5;241m.\u001b[39mdatetime)\n",
      "File \u001b[1;32mc:\\Users\\sonia\\Documents\\cascading-mef-evcontrol\\.venv\\lib\\site-packages\\pandas\\util\\_decorators.py:311\u001b[0m, in \u001b[0;36mdeprecate_nonkeyword_arguments.<locals>.decorate.<locals>.wrapper\u001b[1;34m(*args, **kwargs)\u001b[0m\n\u001b[0;32m    306\u001b[0m     warnings\u001b[38;5;241m.\u001b[39mwarn(\n\u001b[0;32m    307\u001b[0m         msg\u001b[38;5;241m.\u001b[39mformat(arguments\u001b[38;5;241m=\u001b[39marguments),\n\u001b[0;32m    308\u001b[0m         \u001b[38;5;167;01mFutureWarning\u001b[39;00m,\n\u001b[0;32m    309\u001b[0m         stacklevel\u001b[38;5;241m=\u001b[39mstacklevel,\n\u001b[0;32m    310\u001b[0m     )\n\u001b[1;32m--> 311\u001b[0m \u001b[38;5;28;01mreturn\u001b[39;00m func(\u001b[38;5;241m*\u001b[39margs, \u001b[38;5;241m*\u001b[39m\u001b[38;5;241m*\u001b[39mkwargs)\n",
      "File \u001b[1;32mc:\\Users\\sonia\\Documents\\cascading-mef-evcontrol\\.venv\\lib\\site-packages\\pandas\\io\\parsers\\readers.py:586\u001b[0m, in \u001b[0;36mread_csv\u001b[1;34m(filepath_or_buffer, sep, delimiter, header, names, index_col, usecols, squeeze, prefix, mangle_dupe_cols, dtype, engine, converters, true_values, false_values, skipinitialspace, skiprows, skipfooter, nrows, na_values, keep_default_na, na_filter, verbose, skip_blank_lines, parse_dates, infer_datetime_format, keep_date_col, date_parser, dayfirst, cache_dates, iterator, chunksize, compression, thousands, decimal, lineterminator, quotechar, quoting, doublequote, escapechar, comment, encoding, encoding_errors, dialect, error_bad_lines, warn_bad_lines, on_bad_lines, delim_whitespace, low_memory, memory_map, float_precision, storage_options)\u001b[0m\n\u001b[0;32m    584\u001b[0m kwds\u001b[38;5;241m.\u001b[39mupdate(kwds_defaults)\n\u001b[1;32m--> 586\u001b[0m \u001b[38;5;28;01mreturn\u001b[39;00m \u001b[43m_read\u001b[49m\u001b[43m(\u001b[49m\u001b[43mfilepath_or_buffer\u001b[49m\u001b[43m,\u001b[49m\u001b[43m \u001b[49m\u001b[43mkwds\u001b[49m\u001b[43m)\u001b[49m\n",
      "File \u001b[1;32mc:\\Users\\sonia\\Documents\\cascading-mef-evcontrol\\.venv\\lib\\site-packages\\pandas\\io\\parsers\\readers.py:482\u001b[0m, in \u001b[0;36m_read\u001b[1;34m(filepath_or_buffer, kwds)\u001b[0m\n\u001b[0;32m    481\u001b[0m \u001b[38;5;66;03m# Create the parser.\u001b[39;00m\n\u001b[1;32m--> 482\u001b[0m parser \u001b[38;5;241m=\u001b[39m TextFileReader(filepath_or_buffer, \u001b[38;5;241m*\u001b[39m\u001b[38;5;241m*\u001b[39mkwds)\n\u001b[0;32m    484\u001b[0m \u001b[38;5;28;01mif\u001b[39;00m chunksize \u001b[38;5;129;01mor\u001b[39;00m iterator:\n",
      "File \u001b[1;32mc:\\Users\\sonia\\Documents\\cascading-mef-evcontrol\\.venv\\lib\\site-packages\\pandas\\io\\parsers\\readers.py:811\u001b[0m, in \u001b[0;36mTextFileReader.__init__\u001b[1;34m(self, f, engine, **kwds)\u001b[0m\n\u001b[0;32m    809\u001b[0m     \u001b[38;5;28mself\u001b[39m\u001b[38;5;241m.\u001b[39moptions[\u001b[38;5;124m\"\u001b[39m\u001b[38;5;124mhas_index_names\u001b[39m\u001b[38;5;124m\"\u001b[39m] \u001b[38;5;241m=\u001b[39m kwds[\u001b[38;5;124m\"\u001b[39m\u001b[38;5;124mhas_index_names\u001b[39m\u001b[38;5;124m\"\u001b[39m]\n\u001b[1;32m--> 811\u001b[0m \u001b[38;5;28mself\u001b[39m\u001b[38;5;241m.\u001b[39m_engine \u001b[38;5;241m=\u001b[39m \u001b[38;5;28;43mself\u001b[39;49m\u001b[38;5;241;43m.\u001b[39;49m\u001b[43m_make_engine\u001b[49m\u001b[43m(\u001b[49m\u001b[38;5;28;43mself\u001b[39;49m\u001b[38;5;241;43m.\u001b[39;49m\u001b[43mengine\u001b[49m\u001b[43m)\u001b[49m\n",
      "File \u001b[1;32mc:\\Users\\sonia\\Documents\\cascading-mef-evcontrol\\.venv\\lib\\site-packages\\pandas\\io\\parsers\\readers.py:1040\u001b[0m, in \u001b[0;36mTextFileReader._make_engine\u001b[1;34m(self, engine)\u001b[0m\n\u001b[0;32m   1039\u001b[0m \u001b[38;5;66;03m# error: Too many arguments for \"ParserBase\"\u001b[39;00m\n\u001b[1;32m-> 1040\u001b[0m \u001b[38;5;28;01mreturn\u001b[39;00m mapping[engine](\u001b[38;5;28mself\u001b[39m\u001b[38;5;241m.\u001b[39mf, \u001b[38;5;241m*\u001b[39m\u001b[38;5;241m*\u001b[39m\u001b[38;5;28mself\u001b[39m\u001b[38;5;241m.\u001b[39moptions)\n",
      "File \u001b[1;32mc:\\Users\\sonia\\Documents\\cascading-mef-evcontrol\\.venv\\lib\\site-packages\\pandas\\io\\parsers\\c_parser_wrapper.py:51\u001b[0m, in \u001b[0;36mCParserWrapper.__init__\u001b[1;34m(self, src, **kwds)\u001b[0m\n\u001b[0;32m     50\u001b[0m \u001b[38;5;66;03m# open handles\u001b[39;00m\n\u001b[1;32m---> 51\u001b[0m \u001b[38;5;28;43mself\u001b[39;49m\u001b[38;5;241;43m.\u001b[39;49m\u001b[43m_open_handles\u001b[49m\u001b[43m(\u001b[49m\u001b[43msrc\u001b[49m\u001b[43m,\u001b[49m\u001b[43m \u001b[49m\u001b[43mkwds\u001b[49m\u001b[43m)\u001b[49m\n\u001b[0;32m     52\u001b[0m \u001b[38;5;28;01massert\u001b[39;00m \u001b[38;5;28mself\u001b[39m\u001b[38;5;241m.\u001b[39mhandles \u001b[38;5;129;01mis\u001b[39;00m \u001b[38;5;129;01mnot\u001b[39;00m \u001b[38;5;28;01mNone\u001b[39;00m\n",
      "File \u001b[1;32mc:\\Users\\sonia\\Documents\\cascading-mef-evcontrol\\.venv\\lib\\site-packages\\pandas\\io\\parsers\\base_parser.py:222\u001b[0m, in \u001b[0;36mParserBase._open_handles\u001b[1;34m(self, src, kwds)\u001b[0m\n\u001b[0;32m    219\u001b[0m \u001b[38;5;250m\u001b[39m\u001b[38;5;124;03m\"\"\"\u001b[39;00m\n\u001b[0;32m    220\u001b[0m \u001b[38;5;124;03mLet the readers open IOHandles after they are done with their potential raises.\u001b[39;00m\n\u001b[0;32m    221\u001b[0m \u001b[38;5;124;03m\"\"\"\u001b[39;00m\n\u001b[1;32m--> 222\u001b[0m \u001b[38;5;28mself\u001b[39m\u001b[38;5;241m.\u001b[39mhandles \u001b[38;5;241m=\u001b[39m \u001b[43mget_handle\u001b[49m\u001b[43m(\u001b[49m\n\u001b[0;32m    223\u001b[0m \u001b[43m    \u001b[49m\u001b[43msrc\u001b[49m\u001b[43m,\u001b[49m\n\u001b[0;32m    224\u001b[0m \u001b[43m    \u001b[49m\u001b[38;5;124;43m\"\u001b[39;49m\u001b[38;5;124;43mr\u001b[39;49m\u001b[38;5;124;43m\"\u001b[39;49m\u001b[43m,\u001b[49m\n\u001b[0;32m    225\u001b[0m \u001b[43m    \u001b[49m\u001b[43mencoding\u001b[49m\u001b[38;5;241;43m=\u001b[39;49m\u001b[43mkwds\u001b[49m\u001b[38;5;241;43m.\u001b[39;49m\u001b[43mget\u001b[49m\u001b[43m(\u001b[49m\u001b[38;5;124;43m\"\u001b[39;49m\u001b[38;5;124;43mencoding\u001b[39;49m\u001b[38;5;124;43m\"\u001b[39;49m\u001b[43m,\u001b[49m\u001b[43m \u001b[49m\u001b[38;5;28;43;01mNone\u001b[39;49;00m\u001b[43m)\u001b[49m\u001b[43m,\u001b[49m\n\u001b[0;32m    226\u001b[0m \u001b[43m    \u001b[49m\u001b[43mcompression\u001b[49m\u001b[38;5;241;43m=\u001b[39;49m\u001b[43mkwds\u001b[49m\u001b[38;5;241;43m.\u001b[39;49m\u001b[43mget\u001b[49m\u001b[43m(\u001b[49m\u001b[38;5;124;43m\"\u001b[39;49m\u001b[38;5;124;43mcompression\u001b[39;49m\u001b[38;5;124;43m\"\u001b[39;49m\u001b[43m,\u001b[49m\u001b[43m \u001b[49m\u001b[38;5;28;43;01mNone\u001b[39;49;00m\u001b[43m)\u001b[49m\u001b[43m,\u001b[49m\n\u001b[0;32m    227\u001b[0m \u001b[43m    \u001b[49m\u001b[43mmemory_map\u001b[49m\u001b[38;5;241;43m=\u001b[39;49m\u001b[43mkwds\u001b[49m\u001b[38;5;241;43m.\u001b[39;49m\u001b[43mget\u001b[49m\u001b[43m(\u001b[49m\u001b[38;5;124;43m\"\u001b[39;49m\u001b[38;5;124;43mmemory_map\u001b[39;49m\u001b[38;5;124;43m\"\u001b[39;49m\u001b[43m,\u001b[49m\u001b[43m \u001b[49m\u001b[38;5;28;43;01mFalse\u001b[39;49;00m\u001b[43m)\u001b[49m\u001b[43m,\u001b[49m\n\u001b[0;32m    228\u001b[0m \u001b[43m    \u001b[49m\u001b[43mstorage_options\u001b[49m\u001b[38;5;241;43m=\u001b[39;49m\u001b[43mkwds\u001b[49m\u001b[38;5;241;43m.\u001b[39;49m\u001b[43mget\u001b[49m\u001b[43m(\u001b[49m\u001b[38;5;124;43m\"\u001b[39;49m\u001b[38;5;124;43mstorage_options\u001b[39;49m\u001b[38;5;124;43m\"\u001b[39;49m\u001b[43m,\u001b[49m\u001b[43m \u001b[49m\u001b[38;5;28;43;01mNone\u001b[39;49;00m\u001b[43m)\u001b[49m\u001b[43m,\u001b[49m\n\u001b[0;32m    229\u001b[0m \u001b[43m    \u001b[49m\u001b[43merrors\u001b[49m\u001b[38;5;241;43m=\u001b[39;49m\u001b[43mkwds\u001b[49m\u001b[38;5;241;43m.\u001b[39;49m\u001b[43mget\u001b[49m\u001b[43m(\u001b[49m\u001b[38;5;124;43m\"\u001b[39;49m\u001b[38;5;124;43mencoding_errors\u001b[39;49m\u001b[38;5;124;43m\"\u001b[39;49m\u001b[43m,\u001b[49m\u001b[43m \u001b[49m\u001b[38;5;124;43m\"\u001b[39;49m\u001b[38;5;124;43mstrict\u001b[39;49m\u001b[38;5;124;43m\"\u001b[39;49m\u001b[43m)\u001b[49m\u001b[43m,\u001b[49m\n\u001b[0;32m    230\u001b[0m \u001b[43m\u001b[49m\u001b[43m)\u001b[49m\n",
      "File \u001b[1;32mc:\\Users\\sonia\\Documents\\cascading-mef-evcontrol\\.venv\\lib\\site-packages\\pandas\\io\\common.py:701\u001b[0m, in \u001b[0;36mget_handle\u001b[1;34m(path_or_buf, mode, encoding, compression, memory_map, is_text, errors, storage_options)\u001b[0m\n\u001b[0;32m    699\u001b[0m \u001b[38;5;28;01mif\u001b[39;00m ioargs\u001b[38;5;241m.\u001b[39mencoding \u001b[38;5;129;01mand\u001b[39;00m \u001b[38;5;124m\"\u001b[39m\u001b[38;5;124mb\u001b[39m\u001b[38;5;124m\"\u001b[39m \u001b[38;5;129;01mnot\u001b[39;00m \u001b[38;5;129;01min\u001b[39;00m ioargs\u001b[38;5;241m.\u001b[39mmode:\n\u001b[0;32m    700\u001b[0m     \u001b[38;5;66;03m# Encoding\u001b[39;00m\n\u001b[1;32m--> 701\u001b[0m     handle \u001b[38;5;241m=\u001b[39m \u001b[38;5;28;43mopen\u001b[39;49m\u001b[43m(\u001b[49m\n\u001b[0;32m    702\u001b[0m \u001b[43m        \u001b[49m\u001b[43mhandle\u001b[49m\u001b[43m,\u001b[49m\n\u001b[0;32m    703\u001b[0m \u001b[43m        \u001b[49m\u001b[43mioargs\u001b[49m\u001b[38;5;241;43m.\u001b[39;49m\u001b[43mmode\u001b[49m\u001b[43m,\u001b[49m\n\u001b[0;32m    704\u001b[0m \u001b[43m        \u001b[49m\u001b[43mencoding\u001b[49m\u001b[38;5;241;43m=\u001b[39;49m\u001b[43mioargs\u001b[49m\u001b[38;5;241;43m.\u001b[39;49m\u001b[43mencoding\u001b[49m\u001b[43m,\u001b[49m\n\u001b[0;32m    705\u001b[0m \u001b[43m        \u001b[49m\u001b[43merrors\u001b[49m\u001b[38;5;241;43m=\u001b[39;49m\u001b[43merrors\u001b[49m\u001b[43m,\u001b[49m\n\u001b[0;32m    706\u001b[0m \u001b[43m        \u001b[49m\u001b[43mnewline\u001b[49m\u001b[38;5;241;43m=\u001b[39;49m\u001b[38;5;124;43m\"\u001b[39;49m\u001b[38;5;124;43m\"\u001b[39;49m\u001b[43m,\u001b[49m\n\u001b[0;32m    707\u001b[0m \u001b[43m    \u001b[49m\u001b[43m)\u001b[49m\n\u001b[0;32m    708\u001b[0m \u001b[38;5;28;01melse\u001b[39;00m:\n\u001b[0;32m    709\u001b[0m     \u001b[38;5;66;03m# Binary mode\u001b[39;00m\n",
      "\u001b[1;31mFileNotFoundError\u001b[0m: [Errno 2] No such file or directory: 'c:\\\\Users\\\\sonia\\\\Documents\\\\cascading-mef-evcontrol/Data/MEF/1000EVs_added/Controlled_varying_allaccess_access_series/results_2020_run0_2020-01-01_to_2020-01-31_dpdf_20250604.csv'",
      "\nDuring handling of the above exception, another exception occurred:\n",
      "\u001b[1;31mFileNotFoundError\u001b[0m                         Traceback (most recent call last)",
      "Cell \u001b[1;32mIn[8], line 10\u001b[0m\n\u001b[0;32m      7\u001b[0m plt\u001b[38;5;241m.\u001b[39msubplots_adjust(wspace\u001b[38;5;241m=\u001b[39m\u001b[38;5;241m0.4\u001b[39m)\n\u001b[0;32m      9\u001b[0m \u001b[38;5;66;03m#get SR-MEF\u001b[39;00m\n\u001b[1;32m---> 10\u001b[0m results_gperkwh \u001b[38;5;241m=\u001b[39m \u001b[43mresults_gperkwh_fxn_avg\u001b[49m\u001b[43m(\u001b[49m\u001b[43madded_EVs\u001b[49m\u001b[43m,\u001b[49m\u001b[43m \u001b[49m\u001b[43mpath_string\u001b[49m\u001b[43m,\u001b[49m\u001b[43m \u001b[49m\u001b[43mrun_nums\u001b[49m\u001b[43m,\u001b[49m\u001b[43m \u001b[49m\u001b[43mresult_dates\u001b[49m\u001b[43m[\u001b[49m\u001b[38;5;241;43m0\u001b[39;49m\u001b[43m]\u001b[49m\u001b[43m)\u001b[49m\n\u001b[0;32m     12\u001b[0m \u001b[38;5;66;03m#get AEF\u001b[39;00m\n\u001b[0;32m     13\u001b[0m results_gperkwh_aef \u001b[38;5;241m=\u001b[39m results_gperkwh_fxn_avg(added_EVs, path_string_aef, run_nums, result_dates[\u001b[38;5;241m0\u001b[39m])\n",
      "Cell \u001b[1;32mIn[6], line 50\u001b[0m, in \u001b[0;36mresults_gperkwh_fxn_avg\u001b[1;34m(numev_set, path_string, run_numbers, result_date, current_year, month)\u001b[0m\n\u001b[0;32m     48\u001b[0m \u001b[38;5;28;01mexcept\u001b[39;00m:\n\u001b[0;32m     49\u001b[0m     \u001b[38;5;28;01mfor\u001b[39;00m signal2 \u001b[38;5;129;01min\u001b[39;00m [\u001b[38;5;124m'\u001b[39m\u001b[38;5;124mplugged\u001b[39m\u001b[38;5;124m'\u001b[39m]:\n\u001b[1;32m---> 50\u001b[0m         df_total_controlled[signal1][signal2][num_evs] \u001b[38;5;241m=\u001b[39m \u001b[43mpd\u001b[49m\u001b[38;5;241;43m.\u001b[39;49m\u001b[43mread_csv\u001b[49m\u001b[43m(\u001b[49m\u001b[43mpath_string\u001b[49m\u001b[43m \u001b[49m\u001b[38;5;241;43m+\u001b[39;49m\u001b[38;5;28;43mstr\u001b[39;49m\u001b[43m(\u001b[49m\u001b[43mnum_evs\u001b[49m\u001b[43m)\u001b[49m\u001b[38;5;241;43m+\u001b[39;49m\u001b[38;5;124;43m'\u001b[39;49m\u001b[38;5;124;43mEVs_added/Controlled_\u001b[39;49m\u001b[38;5;124;43m'\u001b[39;49m\u001b[38;5;241;43m+\u001b[39;49m\u001b[38;5;28;43mstr\u001b[39;49m\u001b[43m(\u001b[49m\u001b[43msignal1\u001b[49m\u001b[43m)\u001b[49m\u001b[38;5;241;43m+\u001b[39;49m\u001b[38;5;124;43m'\u001b[39;49m\u001b[38;5;124;43m_allaccess_\u001b[39;49m\u001b[38;5;124;43m'\u001b[39;49m\u001b[38;5;241;43m+\u001b[39;49m\u001b[38;5;28;43mstr\u001b[39;49m\u001b[43m(\u001b[49m\u001b[43msignal2\u001b[49m\u001b[43m)\u001b[49m\u001b[38;5;241;43m+\u001b[39;49m\u001b[38;5;124;43m'\u001b[39;49m\u001b[38;5;124;43m_series/demand_run\u001b[39;49m\u001b[38;5;124;43m'\u001b[39;49m\u001b[38;5;241;43m+\u001b[39;49m\u001b[43mrun_number\u001b[49m\u001b[38;5;241;43m+\u001b[39;49m\u001b[38;5;124;43m'\u001b[39;49m\u001b[38;5;124;43m_\u001b[39;49m\u001b[38;5;124;43m'\u001b[39;49m\u001b[38;5;241;43m+\u001b[39;49m\u001b[43mtime_period_string\u001b[49m\u001b[38;5;241;43m+\u001b[39;49m\u001b[38;5;124;43m'\u001b[39;49m\u001b[38;5;124;43m_\u001b[39;49m\u001b[38;5;124;43m'\u001b[39;49m\u001b[38;5;241;43m+\u001b[39;49m\u001b[43mresult_date\u001b[49m\u001b[38;5;241;43m+\u001b[39;49m\u001b[38;5;124;43m'\u001b[39;49m\u001b[38;5;124;43m.csv\u001b[39;49m\u001b[38;5;124;43m'\u001b[39;49m\u001b[43m,\u001b[49m\u001b[43m \u001b[49m\u001b[43mindex_col\u001b[49m\u001b[38;5;241;43m=\u001b[39;49m\u001b[38;5;241;43m0\u001b[39;49m\u001b[43m)\u001b[49m\n\u001b[0;32m     51\u001b[0m         df_total_controlled[signal1][signal2][num_evs]\u001b[38;5;241m.\u001b[39mdatetime \u001b[38;5;241m=\u001b[39m pd\u001b[38;5;241m.\u001b[39mto_datetime(df_total_controlled[signal1][signal2][num_evs]\u001b[38;5;241m.\u001b[39mdatetime)\n\u001b[0;32m     52\u001b[0m         df_controlled_dpdf[signal1][signal2][num_evs] \u001b[38;5;241m=\u001b[39m pd\u001b[38;5;241m.\u001b[39mread_csv(path_string\u001b[38;5;241m+\u001b[39m\u001b[38;5;28mstr\u001b[39m(num_evs)\u001b[38;5;241m+\u001b[39m\u001b[38;5;124m'\u001b[39m\u001b[38;5;124mEVs_added/Controlled_\u001b[39m\u001b[38;5;124m'\u001b[39m\u001b[38;5;241m+\u001b[39m\u001b[38;5;28mstr\u001b[39m(signal1)\u001b[38;5;241m+\u001b[39m\u001b[38;5;124m'\u001b[39m\u001b[38;5;124m_allaccess_\u001b[39m\u001b[38;5;124m'\u001b[39m\u001b[38;5;241m+\u001b[39m\u001b[38;5;28mstr\u001b[39m(signal2)\u001b[38;5;241m+\u001b[39m\u001b[38;5;124m'\u001b[39m\u001b[38;5;124m_series/results_\u001b[39m\u001b[38;5;124m'\u001b[39m\u001b[38;5;241m+\u001b[39mdpdf_year\u001b[38;5;241m+\u001b[39m\u001b[38;5;124m'\u001b[39m\u001b[38;5;124m_run\u001b[39m\u001b[38;5;124m'\u001b[39m\u001b[38;5;241m+\u001b[39mrun_number\u001b[38;5;241m+\u001b[39m\u001b[38;5;124m'\u001b[39m\u001b[38;5;124m_\u001b[39m\u001b[38;5;124m'\u001b[39m\u001b[38;5;241m+\u001b[39mtime_period_string\u001b[38;5;241m+\u001b[39m\u001b[38;5;124m'\u001b[39m\u001b[38;5;124m_dpdf_\u001b[39m\u001b[38;5;124m'\u001b[39m\u001b[38;5;241m+\u001b[39mresult_date\u001b[38;5;241m+\u001b[39m\u001b[38;5;124m'\u001b[39m\u001b[38;5;124m.csv\u001b[39m\u001b[38;5;124m'\u001b[39m)\n",
      "File \u001b[1;32mc:\\Users\\sonia\\Documents\\cascading-mef-evcontrol\\.venv\\lib\\site-packages\\pandas\\util\\_decorators.py:311\u001b[0m, in \u001b[0;36mdeprecate_nonkeyword_arguments.<locals>.decorate.<locals>.wrapper\u001b[1;34m(*args, **kwargs)\u001b[0m\n\u001b[0;32m    305\u001b[0m \u001b[38;5;28;01mif\u001b[39;00m \u001b[38;5;28mlen\u001b[39m(args) \u001b[38;5;241m>\u001b[39m num_allow_args:\n\u001b[0;32m    306\u001b[0m     warnings\u001b[38;5;241m.\u001b[39mwarn(\n\u001b[0;32m    307\u001b[0m         msg\u001b[38;5;241m.\u001b[39mformat(arguments\u001b[38;5;241m=\u001b[39marguments),\n\u001b[0;32m    308\u001b[0m         \u001b[38;5;167;01mFutureWarning\u001b[39;00m,\n\u001b[0;32m    309\u001b[0m         stacklevel\u001b[38;5;241m=\u001b[39mstacklevel,\n\u001b[0;32m    310\u001b[0m     )\n\u001b[1;32m--> 311\u001b[0m \u001b[38;5;28;01mreturn\u001b[39;00m func(\u001b[38;5;241m*\u001b[39margs, \u001b[38;5;241m*\u001b[39m\u001b[38;5;241m*\u001b[39mkwargs)\n",
      "File \u001b[1;32mc:\\Users\\sonia\\Documents\\cascading-mef-evcontrol\\.venv\\lib\\site-packages\\pandas\\io\\parsers\\readers.py:586\u001b[0m, in \u001b[0;36mread_csv\u001b[1;34m(filepath_or_buffer, sep, delimiter, header, names, index_col, usecols, squeeze, prefix, mangle_dupe_cols, dtype, engine, converters, true_values, false_values, skipinitialspace, skiprows, skipfooter, nrows, na_values, keep_default_na, na_filter, verbose, skip_blank_lines, parse_dates, infer_datetime_format, keep_date_col, date_parser, dayfirst, cache_dates, iterator, chunksize, compression, thousands, decimal, lineterminator, quotechar, quoting, doublequote, escapechar, comment, encoding, encoding_errors, dialect, error_bad_lines, warn_bad_lines, on_bad_lines, delim_whitespace, low_memory, memory_map, float_precision, storage_options)\u001b[0m\n\u001b[0;32m    571\u001b[0m kwds_defaults \u001b[38;5;241m=\u001b[39m _refine_defaults_read(\n\u001b[0;32m    572\u001b[0m     dialect,\n\u001b[0;32m    573\u001b[0m     delimiter,\n\u001b[1;32m   (...)\u001b[0m\n\u001b[0;32m    582\u001b[0m     defaults\u001b[38;5;241m=\u001b[39m{\u001b[38;5;124m\"\u001b[39m\u001b[38;5;124mdelimiter\u001b[39m\u001b[38;5;124m\"\u001b[39m: \u001b[38;5;124m\"\u001b[39m\u001b[38;5;124m,\u001b[39m\u001b[38;5;124m\"\u001b[39m},\n\u001b[0;32m    583\u001b[0m )\n\u001b[0;32m    584\u001b[0m kwds\u001b[38;5;241m.\u001b[39mupdate(kwds_defaults)\n\u001b[1;32m--> 586\u001b[0m \u001b[38;5;28;01mreturn\u001b[39;00m \u001b[43m_read\u001b[49m\u001b[43m(\u001b[49m\u001b[43mfilepath_or_buffer\u001b[49m\u001b[43m,\u001b[49m\u001b[43m \u001b[49m\u001b[43mkwds\u001b[49m\u001b[43m)\u001b[49m\n",
      "File \u001b[1;32mc:\\Users\\sonia\\Documents\\cascading-mef-evcontrol\\.venv\\lib\\site-packages\\pandas\\io\\parsers\\readers.py:482\u001b[0m, in \u001b[0;36m_read\u001b[1;34m(filepath_or_buffer, kwds)\u001b[0m\n\u001b[0;32m    479\u001b[0m _validate_names(kwds\u001b[38;5;241m.\u001b[39mget(\u001b[38;5;124m\"\u001b[39m\u001b[38;5;124mnames\u001b[39m\u001b[38;5;124m\"\u001b[39m, \u001b[38;5;28;01mNone\u001b[39;00m))\n\u001b[0;32m    481\u001b[0m \u001b[38;5;66;03m# Create the parser.\u001b[39;00m\n\u001b[1;32m--> 482\u001b[0m parser \u001b[38;5;241m=\u001b[39m TextFileReader(filepath_or_buffer, \u001b[38;5;241m*\u001b[39m\u001b[38;5;241m*\u001b[39mkwds)\n\u001b[0;32m    484\u001b[0m \u001b[38;5;28;01mif\u001b[39;00m chunksize \u001b[38;5;129;01mor\u001b[39;00m iterator:\n\u001b[0;32m    485\u001b[0m     \u001b[38;5;28;01mreturn\u001b[39;00m parser\n",
      "File \u001b[1;32mc:\\Users\\sonia\\Documents\\cascading-mef-evcontrol\\.venv\\lib\\site-packages\\pandas\\io\\parsers\\readers.py:811\u001b[0m, in \u001b[0;36mTextFileReader.__init__\u001b[1;34m(self, f, engine, **kwds)\u001b[0m\n\u001b[0;32m    808\u001b[0m \u001b[38;5;28;01mif\u001b[39;00m \u001b[38;5;124m\"\u001b[39m\u001b[38;5;124mhas_index_names\u001b[39m\u001b[38;5;124m\"\u001b[39m \u001b[38;5;129;01min\u001b[39;00m kwds:\n\u001b[0;32m    809\u001b[0m     \u001b[38;5;28mself\u001b[39m\u001b[38;5;241m.\u001b[39moptions[\u001b[38;5;124m\"\u001b[39m\u001b[38;5;124mhas_index_names\u001b[39m\u001b[38;5;124m\"\u001b[39m] \u001b[38;5;241m=\u001b[39m kwds[\u001b[38;5;124m\"\u001b[39m\u001b[38;5;124mhas_index_names\u001b[39m\u001b[38;5;124m\"\u001b[39m]\n\u001b[1;32m--> 811\u001b[0m \u001b[38;5;28mself\u001b[39m\u001b[38;5;241m.\u001b[39m_engine \u001b[38;5;241m=\u001b[39m \u001b[38;5;28;43mself\u001b[39;49m\u001b[38;5;241;43m.\u001b[39;49m\u001b[43m_make_engine\u001b[49m\u001b[43m(\u001b[49m\u001b[38;5;28;43mself\u001b[39;49m\u001b[38;5;241;43m.\u001b[39;49m\u001b[43mengine\u001b[49m\u001b[43m)\u001b[49m\n",
      "File \u001b[1;32mc:\\Users\\sonia\\Documents\\cascading-mef-evcontrol\\.venv\\lib\\site-packages\\pandas\\io\\parsers\\readers.py:1040\u001b[0m, in \u001b[0;36mTextFileReader._make_engine\u001b[1;34m(self, engine)\u001b[0m\n\u001b[0;32m   1036\u001b[0m     \u001b[38;5;28;01mraise\u001b[39;00m \u001b[38;5;167;01mValueError\u001b[39;00m(\n\u001b[0;32m   1037\u001b[0m         \u001b[38;5;124mf\u001b[39m\u001b[38;5;124m\"\u001b[39m\u001b[38;5;124mUnknown engine: \u001b[39m\u001b[38;5;132;01m{\u001b[39;00mengine\u001b[38;5;132;01m}\u001b[39;00m\u001b[38;5;124m (valid options are \u001b[39m\u001b[38;5;132;01m{\u001b[39;00mmapping\u001b[38;5;241m.\u001b[39mkeys()\u001b[38;5;132;01m}\u001b[39;00m\u001b[38;5;124m)\u001b[39m\u001b[38;5;124m\"\u001b[39m\n\u001b[0;32m   1038\u001b[0m     )\n\u001b[0;32m   1039\u001b[0m \u001b[38;5;66;03m# error: Too many arguments for \"ParserBase\"\u001b[39;00m\n\u001b[1;32m-> 1040\u001b[0m \u001b[38;5;28;01mreturn\u001b[39;00m mapping[engine](\u001b[38;5;28mself\u001b[39m\u001b[38;5;241m.\u001b[39mf, \u001b[38;5;241m*\u001b[39m\u001b[38;5;241m*\u001b[39m\u001b[38;5;28mself\u001b[39m\u001b[38;5;241m.\u001b[39moptions)\n",
      "File \u001b[1;32mc:\\Users\\sonia\\Documents\\cascading-mef-evcontrol\\.venv\\lib\\site-packages\\pandas\\io\\parsers\\c_parser_wrapper.py:51\u001b[0m, in \u001b[0;36mCParserWrapper.__init__\u001b[1;34m(self, src, **kwds)\u001b[0m\n\u001b[0;32m     48\u001b[0m kwds[\u001b[38;5;124m\"\u001b[39m\u001b[38;5;124musecols\u001b[39m\u001b[38;5;124m\"\u001b[39m] \u001b[38;5;241m=\u001b[39m \u001b[38;5;28mself\u001b[39m\u001b[38;5;241m.\u001b[39musecols\n\u001b[0;32m     50\u001b[0m \u001b[38;5;66;03m# open handles\u001b[39;00m\n\u001b[1;32m---> 51\u001b[0m \u001b[38;5;28;43mself\u001b[39;49m\u001b[38;5;241;43m.\u001b[39;49m\u001b[43m_open_handles\u001b[49m\u001b[43m(\u001b[49m\u001b[43msrc\u001b[49m\u001b[43m,\u001b[49m\u001b[43m \u001b[49m\u001b[43mkwds\u001b[49m\u001b[43m)\u001b[49m\n\u001b[0;32m     52\u001b[0m \u001b[38;5;28;01massert\u001b[39;00m \u001b[38;5;28mself\u001b[39m\u001b[38;5;241m.\u001b[39mhandles \u001b[38;5;129;01mis\u001b[39;00m \u001b[38;5;129;01mnot\u001b[39;00m \u001b[38;5;28;01mNone\u001b[39;00m\n\u001b[0;32m     54\u001b[0m \u001b[38;5;66;03m# Have to pass int, would break tests using TextReader directly otherwise :(\u001b[39;00m\n",
      "File \u001b[1;32mc:\\Users\\sonia\\Documents\\cascading-mef-evcontrol\\.venv\\lib\\site-packages\\pandas\\io\\parsers\\base_parser.py:222\u001b[0m, in \u001b[0;36mParserBase._open_handles\u001b[1;34m(self, src, kwds)\u001b[0m\n\u001b[0;32m    218\u001b[0m \u001b[38;5;28;01mdef\u001b[39;00m\u001b[38;5;250m \u001b[39m\u001b[38;5;21m_open_handles\u001b[39m(\u001b[38;5;28mself\u001b[39m, src: FilePathOrBuffer, kwds: \u001b[38;5;28mdict\u001b[39m[\u001b[38;5;28mstr\u001b[39m, Any]) \u001b[38;5;241m-\u001b[39m\u001b[38;5;241m>\u001b[39m \u001b[38;5;28;01mNone\u001b[39;00m:\n\u001b[0;32m    219\u001b[0m \u001b[38;5;250m    \u001b[39m\u001b[38;5;124;03m\"\"\"\u001b[39;00m\n\u001b[0;32m    220\u001b[0m \u001b[38;5;124;03m    Let the readers open IOHandles after they are done with their potential raises.\u001b[39;00m\n\u001b[0;32m    221\u001b[0m \u001b[38;5;124;03m    \"\"\"\u001b[39;00m\n\u001b[1;32m--> 222\u001b[0m     \u001b[38;5;28mself\u001b[39m\u001b[38;5;241m.\u001b[39mhandles \u001b[38;5;241m=\u001b[39m \u001b[43mget_handle\u001b[49m\u001b[43m(\u001b[49m\n\u001b[0;32m    223\u001b[0m \u001b[43m        \u001b[49m\u001b[43msrc\u001b[49m\u001b[43m,\u001b[49m\n\u001b[0;32m    224\u001b[0m \u001b[43m        \u001b[49m\u001b[38;5;124;43m\"\u001b[39;49m\u001b[38;5;124;43mr\u001b[39;49m\u001b[38;5;124;43m\"\u001b[39;49m\u001b[43m,\u001b[49m\n\u001b[0;32m    225\u001b[0m \u001b[43m        \u001b[49m\u001b[43mencoding\u001b[49m\u001b[38;5;241;43m=\u001b[39;49m\u001b[43mkwds\u001b[49m\u001b[38;5;241;43m.\u001b[39;49m\u001b[43mget\u001b[49m\u001b[43m(\u001b[49m\u001b[38;5;124;43m\"\u001b[39;49m\u001b[38;5;124;43mencoding\u001b[39;49m\u001b[38;5;124;43m\"\u001b[39;49m\u001b[43m,\u001b[49m\u001b[43m \u001b[49m\u001b[38;5;28;43;01mNone\u001b[39;49;00m\u001b[43m)\u001b[49m\u001b[43m,\u001b[49m\n\u001b[0;32m    226\u001b[0m \u001b[43m        \u001b[49m\u001b[43mcompression\u001b[49m\u001b[38;5;241;43m=\u001b[39;49m\u001b[43mkwds\u001b[49m\u001b[38;5;241;43m.\u001b[39;49m\u001b[43mget\u001b[49m\u001b[43m(\u001b[49m\u001b[38;5;124;43m\"\u001b[39;49m\u001b[38;5;124;43mcompression\u001b[39;49m\u001b[38;5;124;43m\"\u001b[39;49m\u001b[43m,\u001b[49m\u001b[43m \u001b[49m\u001b[38;5;28;43;01mNone\u001b[39;49;00m\u001b[43m)\u001b[49m\u001b[43m,\u001b[49m\n\u001b[0;32m    227\u001b[0m \u001b[43m        \u001b[49m\u001b[43mmemory_map\u001b[49m\u001b[38;5;241;43m=\u001b[39;49m\u001b[43mkwds\u001b[49m\u001b[38;5;241;43m.\u001b[39;49m\u001b[43mget\u001b[49m\u001b[43m(\u001b[49m\u001b[38;5;124;43m\"\u001b[39;49m\u001b[38;5;124;43mmemory_map\u001b[39;49m\u001b[38;5;124;43m\"\u001b[39;49m\u001b[43m,\u001b[49m\u001b[43m \u001b[49m\u001b[38;5;28;43;01mFalse\u001b[39;49;00m\u001b[43m)\u001b[49m\u001b[43m,\u001b[49m\n\u001b[0;32m    228\u001b[0m \u001b[43m        \u001b[49m\u001b[43mstorage_options\u001b[49m\u001b[38;5;241;43m=\u001b[39;49m\u001b[43mkwds\u001b[49m\u001b[38;5;241;43m.\u001b[39;49m\u001b[43mget\u001b[49m\u001b[43m(\u001b[49m\u001b[38;5;124;43m\"\u001b[39;49m\u001b[38;5;124;43mstorage_options\u001b[39;49m\u001b[38;5;124;43m\"\u001b[39;49m\u001b[43m,\u001b[49m\u001b[43m \u001b[49m\u001b[38;5;28;43;01mNone\u001b[39;49;00m\u001b[43m)\u001b[49m\u001b[43m,\u001b[49m\n\u001b[0;32m    229\u001b[0m \u001b[43m        \u001b[49m\u001b[43merrors\u001b[49m\u001b[38;5;241;43m=\u001b[39;49m\u001b[43mkwds\u001b[49m\u001b[38;5;241;43m.\u001b[39;49m\u001b[43mget\u001b[49m\u001b[43m(\u001b[49m\u001b[38;5;124;43m\"\u001b[39;49m\u001b[38;5;124;43mencoding_errors\u001b[39;49m\u001b[38;5;124;43m\"\u001b[39;49m\u001b[43m,\u001b[49m\u001b[43m \u001b[49m\u001b[38;5;124;43m\"\u001b[39;49m\u001b[38;5;124;43mstrict\u001b[39;49m\u001b[38;5;124;43m\"\u001b[39;49m\u001b[43m)\u001b[49m\u001b[43m,\u001b[49m\n\u001b[0;32m    230\u001b[0m \u001b[43m    \u001b[49m\u001b[43m)\u001b[49m\n",
      "File \u001b[1;32mc:\\Users\\sonia\\Documents\\cascading-mef-evcontrol\\.venv\\lib\\site-packages\\pandas\\io\\common.py:701\u001b[0m, in \u001b[0;36mget_handle\u001b[1;34m(path_or_buf, mode, encoding, compression, memory_map, is_text, errors, storage_options)\u001b[0m\n\u001b[0;32m    696\u001b[0m \u001b[38;5;28;01melif\u001b[39;00m \u001b[38;5;28misinstance\u001b[39m(handle, \u001b[38;5;28mstr\u001b[39m):\n\u001b[0;32m    697\u001b[0m     \u001b[38;5;66;03m# Check whether the filename is to be opened in binary mode.\u001b[39;00m\n\u001b[0;32m    698\u001b[0m     \u001b[38;5;66;03m# Binary mode does not support 'encoding' and 'newline'.\u001b[39;00m\n\u001b[0;32m    699\u001b[0m     \u001b[38;5;28;01mif\u001b[39;00m ioargs\u001b[38;5;241m.\u001b[39mencoding \u001b[38;5;129;01mand\u001b[39;00m \u001b[38;5;124m\"\u001b[39m\u001b[38;5;124mb\u001b[39m\u001b[38;5;124m\"\u001b[39m \u001b[38;5;129;01mnot\u001b[39;00m \u001b[38;5;129;01min\u001b[39;00m ioargs\u001b[38;5;241m.\u001b[39mmode:\n\u001b[0;32m    700\u001b[0m         \u001b[38;5;66;03m# Encoding\u001b[39;00m\n\u001b[1;32m--> 701\u001b[0m         handle \u001b[38;5;241m=\u001b[39m \u001b[38;5;28;43mopen\u001b[39;49m\u001b[43m(\u001b[49m\n\u001b[0;32m    702\u001b[0m \u001b[43m            \u001b[49m\u001b[43mhandle\u001b[49m\u001b[43m,\u001b[49m\n\u001b[0;32m    703\u001b[0m \u001b[43m            \u001b[49m\u001b[43mioargs\u001b[49m\u001b[38;5;241;43m.\u001b[39;49m\u001b[43mmode\u001b[49m\u001b[43m,\u001b[49m\n\u001b[0;32m    704\u001b[0m \u001b[43m            \u001b[49m\u001b[43mencoding\u001b[49m\u001b[38;5;241;43m=\u001b[39;49m\u001b[43mioargs\u001b[49m\u001b[38;5;241;43m.\u001b[39;49m\u001b[43mencoding\u001b[49m\u001b[43m,\u001b[49m\n\u001b[0;32m    705\u001b[0m \u001b[43m            \u001b[49m\u001b[43merrors\u001b[49m\u001b[38;5;241;43m=\u001b[39;49m\u001b[43merrors\u001b[49m\u001b[43m,\u001b[49m\n\u001b[0;32m    706\u001b[0m \u001b[43m            \u001b[49m\u001b[43mnewline\u001b[49m\u001b[38;5;241;43m=\u001b[39;49m\u001b[38;5;124;43m\"\u001b[39;49m\u001b[38;5;124;43m\"\u001b[39;49m\u001b[43m,\u001b[49m\n\u001b[0;32m    707\u001b[0m \u001b[43m        \u001b[49m\u001b[43m)\u001b[49m\n\u001b[0;32m    708\u001b[0m     \u001b[38;5;28;01melse\u001b[39;00m:\n\u001b[0;32m    709\u001b[0m         \u001b[38;5;66;03m# Binary mode\u001b[39;00m\n\u001b[0;32m    710\u001b[0m         handle \u001b[38;5;241m=\u001b[39m \u001b[38;5;28mopen\u001b[39m(handle, ioargs\u001b[38;5;241m.\u001b[39mmode)\n",
      "\u001b[1;31mFileNotFoundError\u001b[0m: [Errno 2] No such file or directory: 'c:\\\\Users\\\\sonia\\\\Documents\\\\cascading-mef-evcontrol/Data/MEF/1000EVs_added/Controlled_varying_allaccess_plugged_series/demand_run0_2020-01-01_to_2020-01-31_20250604.csv'"
     ]
    },
    {
     "data": {
      "image/png": "[encoded data removed]",
      "text/plain": [
       "<Figure size 1700x1400 with 4 Axes>"
      ]
     },
     "metadata": {},
     "output_type": "display_data"
    }
   ],
   "source": [
    "#run custom added emissions plot\n",
    "run_nums = [str(i) for i in range(15)]\n",
    "\n",
    "added_EVs = [1000,100000, 500000, 1000000, 1500000, 2000000]\n",
    "fig1, axes1 = plt.subplots(2,2,figsize=(17,14))\n",
    "plt.subplots_adjust(hspace=0.3)\n",
    "plt.subplots_adjust(wspace=0.4)\n",
    "\n",
    "#get SR-MEF\n",
    "results_gperkwh = results_gperkwh_fxn_avg(added_EVs, path_string, run_nums, result_dates[0])\n",
    "\n",
    "#get AEF\n",
    "results_gperkwh_aef = results_gperkwh_fxn_avg(added_EVs, path_string_aef, run_nums, result_dates[0])\n",
    "\n",
    "#get cascade\n",
    "results_cascade = results_gperkwh_fxn_avg(added_EVs, path_string_cascade, run_nums, result_dates[0])\n",
    "\n",
    "multi_run_plot(added_EVs, results_gperkwh, results_gperkwh_aef, results_cascade, fig1, axes1[0,0], title=False, to_plot = [0,2, 4,6], legend_pos='upper right', annotation='January 2020', fig_num='a.')\n",
    "\n",
    "\n",
    "#b\n",
    "# # run custom main plot - 2030\n",
    "\n",
    "\n",
    "# #get MEF\n",
    "results_gperkwh_b = results_gperkwh_fxn_avg(added_EVs, path_string_2030, run_nums, result_dates[0], current_year=2030)\n",
    "\n",
    "#get AEF\n",
    "results_gperkwh_aef_b = results_gperkwh_fxn_avg(added_EVs, path_string_aef_2030, run_nums, result_dates[0], current_year=2030)\n",
    "\n",
    "#get cascade\n",
    "results_cascade_b = pd.DataFrame(columns = ['uncontrolled', 'varying_access', 'varying_plugged'])\n",
    "for i, num_evs in enumerate(added_EVs):\n",
    "    temp = results_gperkwh_fxn_avg([num_evs], path_string_cascade_2030, run_nums, result_dates[0], current_year=2030)\n",
    "    results_cascade_b.loc[num_evs, 'varying_access'] = temp.loc[num_evs, 'varying_access'] \n",
    "    results_cascade_b.loc[num_evs, 'varying_access_2s'] = temp.loc[num_evs, 'varying_access_2s'] \n",
    "    results_cascade_b.loc[num_evs, 'varying_plugged'] = temp.loc[num_evs, 'varying_plugged'] \n",
    "    results_cascade_b.loc[num_evs, 'varying_plugged_2s'] = temp.loc[num_evs, 'varying_plugged_2s'] \n",
    "\n",
    "\n",
    "multi_run_plot(added_EVs, results_gperkwh_b, results_gperkwh_aef_b, results_cascade_b, fig1, axes1[0,1], title=False, to_plot = [0,2,4,6], legend_pos='upper right', annotation='January 2030', fig_num='b.') \n",
    "\n",
    "#c\n",
    "# #run custom added emissions plot\n",
    "\n",
    "\n",
    "#get SR-MEF\n",
    "results_gperkwh_c = results_gperkwh_fxn_avg(added_EVs, path_string, run_nums, result_dates[0], month=7)\n",
    "\n",
    "#get AEF\n",
    "results_gperkwh_aef_c = results_gperkwh_fxn_avg(added_EVs, path_string_aef, run_nums, result_dates[0], month=7)\n",
    "\n",
    "\n",
    "results_cascade_c = pd.DataFrame(columns = ['uncontrolled', 'varying_access', 'varying_plugged'])\n",
    "\n",
    "for i, num_evs in enumerate(added_EVs):\n",
    "    temp = results_gperkwh_fxn_avg([num_evs], path_string_cascade, run_nums, result_dates[0], month=7)\n",
    "    results_cascade_c.loc[num_evs, 'varying_access'] = temp.loc[num_evs, 'varying_access'] \n",
    "    results_cascade_c.loc[num_evs, 'varying_access_2s'] = temp.loc[num_evs, 'varying_access_2s'] \n",
    "    results_cascade_c.loc[num_evs, 'varying_plugged'] = temp.loc[num_evs, 'varying_plugged'] \n",
    "    results_cascade_c.loc[num_evs, 'varying_plugged_2s'] = temp.loc[num_evs, 'varying_plugged_2s'] \n",
    "\n",
    "\n",
    "multi_run_plot(added_EVs, results_gperkwh_c, results_gperkwh_aef_c, results_cascade_c, fig1, axes1[1,0], title=False, to_plot = [0,2,4,6], annotation='July 2020', fig_num='c.') \n",
    "\n",
    "\n",
    "#d\n",
    "# run custom main plot - 2030\n",
    "\n",
    "\n",
    "\n",
    "#get MEF\n",
    "results_gperkwh_d = results_gperkwh_fxn_avg(added_EVs, path_string_2030, run_nums, result_dates[0], current_year=2030, month=7)\n",
    "\n",
    "#get AEF\n",
    "results_gperkwh_aef_d = results_gperkwh_fxn_avg(added_EVs, path_string_aef_2030, run_nums, result_dates[0], current_year=2030, month=7)\n",
    "\n",
    "#get cascade\n",
    "results_cascade_d = results_gperkwh_fxn_avg(added_EVs, path_string_cascade_2030, run_nums, result_dates[0], current_year=2030, month=7)\n",
    "\n",
    "multi_run_plot(added_EVs, results_gperkwh_d, results_gperkwh_aef_d, results_cascade_d, fig1, axes1[1,1], title=False, to_plot = [0,2,4,6], legend_pos='upper right', annotation='July 2030', fig_num='d.') \n",
    "\n",
    "plt.tight_layout()\n",
    "plt.savefig('Added_Emissions/'+'S4_charging_timer'+'.pdf', bbox_inches='tight')\n",
    "plt.show()\n",
    "\n"
   ]
  },
  {
   "cell_type": "markdown",
   "metadata": {},
   "source": [
    "## Jan 2020 tables"
   ]
  },
  {
   "cell_type": "code",
   "execution_count": null,
   "metadata": {},
   "outputs": [
    {
     "name": "stdout",
     "output_type": "stream",
     "text": [
      "1,000      & 26.0\\% & 26.0\\% & 0.2\\%  \\ \\\n",
      "100,000    & 16.6\\% & 22.9\\% & 7.0\\%  \\ \\\n",
      "500,000    & 9.9 \\% & 23.3\\% & 4.9\\%  \\ \\\n",
      "1,000,000  & 2.8 \\% & 20.3\\% & 3.3\\%  \\ \\\n",
      "1,500,000  & -0.8 \\% & 17.3\\% & 2.3\\%  \\ \\\n",
      "2,000,000  & -1.8 \\% & 14.7\\% & 1.7\\%  \\ \\\n"
     ]
    }
   ],
   "source": [
    "## print table MEF | Cascade | AEF:\n",
    "\n",
    "print('1,000      & ' + str(np.round((1-results_gperkwh.varying_plugged[1000] / results_gperkwh.uncontrolled[1000]) * 100, 1)) +'\\% & ' + str(np.round((1-results_cascade.varying_plugged[1000] / results_gperkwh.uncontrolled[1000]) * 100, 1)) + '\\% & ' + str(np.round((1-results_gperkwh_aef.varying_plugged[1000] / results_gperkwh.uncontrolled[1000]) * 100, 1)) + '\\%  \\\\ ' + '\\\\')\n",
    "print('100,000    & ' + str(np.round((1-results_gperkwh.varying_plugged[100000] / results_gperkwh.uncontrolled[100000]) * 100, 1)) +'\\% & ' + str(np.round((1-results_cascade.varying_plugged[100000] / results_gperkwh.uncontrolled[100000]) * 100, 1)) +'\\% & '+ str(np.round((1-results_gperkwh_aef.varying_plugged[100000] / results_gperkwh.uncontrolled[100000]) * 100, 1)) + '\\%  \\\\ ' + '\\\\')\n",
    "print('500,000    & ' + str(np.round((1-results_gperkwh.varying_plugged[500000] / results_gperkwh.uncontrolled[500000]) * 100, 1)) +' \\% & ' + str(np.round((1-results_cascade.varying_plugged[500000] / results_gperkwh.uncontrolled[500000]) * 100, 1)) +'\\% & '+ str(np.round((1-results_gperkwh_aef.varying_plugged[500000] / results_gperkwh.uncontrolled[500000]) * 100, 1)) + '\\%  \\\\ ' + '\\\\')\n",
    "print('1,000,000  & ' + str(np.round((1-results_gperkwh.varying_plugged[1000000] / results_gperkwh.uncontrolled[1000000]) * 100, 1)) +' \\% & ' + str(np.round((1-results_cascade.varying_plugged[1000000] / results_gperkwh.uncontrolled[1000000]) * 100, 1)) +'\\% & '+ str(np.round((1-results_gperkwh_aef.varying_plugged[1000000] / results_gperkwh.uncontrolled[1000000]) * 100, 1)) + '\\%  \\\\ ' + '\\\\')\n",
    "print('1,500,000  & ' + str(np.round((1-results_gperkwh.varying_plugged[1500000] / results_gperkwh.uncontrolled[1500000]) * 100, 1)) +' \\% & ' + str(np.round((1-results_cascade.varying_plugged[1500000] / results_gperkwh.uncontrolled[1500000]) * 100, 1)) +'\\% & '+ str(np.round((1-results_gperkwh_aef.varying_plugged[1500000] / results_gperkwh.uncontrolled[1500000]) * 100, 1)) + '\\%  \\\\ ' + '\\\\')\n",
    "print('2,000,000  & ' +str(np.round((1-results_gperkwh.varying_plugged[2000000] / results_gperkwh.uncontrolled[2000000]) * 100, 1)) +' \\% & ' + str(np.round((1-results_cascade.varying_plugged[2000000] / results_gperkwh.uncontrolled[2000000]) * 100, 1)) +'\\% & '+ str(np.round((1-results_gperkwh_aef.varying_plugged[2000000] / results_gperkwh.uncontrolled[2000000]) * 100, 1)) + '\\%  \\\\ ' + '\\\\')\n",
    "\n"
   ]
  },
  {
   "cell_type": "code",
   "execution_count": null,
   "metadata": {},
   "outputs": [
    {
     "name": "stdout",
     "output_type": "stream",
     "text": [
      "1,000      & 565.4 & 418.4 & 564.3 & 418.6\\\\\n",
      "100,000    & 553.8 & 461.9 & 515.1 & 427.0\\\\\n",
      "500,000    & 551.8 & 497.1 & 524.6 & 423.0\\\\\n",
      "1,000,000  & 546.9 & 531.3 & 528.9 & 435.6\\\\\n",
      "1,500,000  & 544.8 & 549.1 & 532.0 & 450.3\\\\\n",
      "2,000,000  & 544.9 & 554.7 & 535.4 & 464.8\\\\\n"
     ]
    }
   ],
   "source": [
    "print('1,000      & '+ str(np.round(results_gperkwh.uncontrolled[1000],1))  +' & ' + str(np.round(results_gperkwh.varying_plugged[1000],1))       +' & ' + str(np.round(results_gperkwh_aef.varying_plugged[1000],1)) + ' & ' + str(np.round(results_cascade.varying_plugged[1000],1)) + '\\\\' + '\\\\')\n",
    "print('100,000    & '+ str(np.round(results_gperkwh.uncontrolled[100000],1))  +' & ' + str(np.round(results_gperkwh.varying_plugged[100000],1))   + ' & ' + str(np.round(results_gperkwh_aef.varying_plugged[100000],1)) + ' & ' + str(np.round(results_cascade.varying_plugged[100000],1)) + '\\\\' + '\\\\')\n",
    "print('500,000    & '+ str(np.round(results_gperkwh.uncontrolled[500000],1))  +' & ' + str(np.round(results_gperkwh.varying_plugged[500000],1))   + ' & ' + str(np.round(results_gperkwh_aef.varying_plugged[500000],1)) + ' & ' + str(np.round(results_cascade.varying_plugged[500000],1)) + '\\\\' + '\\\\')\n",
    "print('1,000,000  & '+ str(np.round(results_gperkwh.uncontrolled[1000000],1))  +' & ' + str(np.round(results_gperkwh.varying_plugged[1000000],1)) + ' & ' + str(np.round(results_gperkwh_aef.varying_plugged[1000000],1)) + ' & ' + str(np.round(results_cascade.varying_plugged[1000000],1)) + '\\\\' + '\\\\')\n",
    "print('1,500,000  & '+ str(np.round(results_gperkwh.uncontrolled[1500000],1))  +' & ' + str(np.round(results_gperkwh.varying_plugged[1500000],1)) + ' & ' + str(np.round(results_gperkwh_aef.varying_plugged[1500000],1)) + ' & ' + str(np.round(results_cascade.varying_plugged[1500000],1)) + '\\\\' + '\\\\')\n",
    "print('2,000,000  & '+ str(np.round(results_gperkwh.uncontrolled[2000000],1))  +' & ' + str(np.round(results_gperkwh.varying_plugged[2000000],1)) + ' & ' + str(np.round(results_gperkwh_aef.varying_plugged[2000000],1)) + ' & ' + str(np.round(results_cascade.varying_plugged[2000000],1)) + '\\\\' + '\\\\')"
   ]
  },
  {
   "cell_type": "markdown",
   "metadata": {},
   "source": [
    "## Jan 2030 tables"
   ]
  },
  {
   "cell_type": "code",
   "execution_count": null,
   "metadata": {},
   "outputs": [
    {
     "name": "stdout",
     "output_type": "stream",
     "text": [
      "1,000      & 17.8\\% & 17.7\\% & 4.3\\%  \\ \\\n",
      "100,000    & 12.7\\% & 14.0\\% & 0.1\\%  \\ \\\n",
      "500,000    & 5.3 \\% & 11.9\\% & -0.4\\%  \\ \\\n",
      "1,000,000  & 2.2 \\% & 10.0\\% & -2.4\\%  \\ \\\n",
      "1,500,000  & 2.4 \\% & 10.9\\% & -2.4\\%  \\ \\\n",
      "2,000,000  & -0.3 \\% & 11.3\\% & -1.8\\%  \\ \\\n"
     ]
    }
   ],
   "source": [
    "## print table MEF | Cascade | AEF:\n",
    "\n",
    "print('1,000      & ' + str(np.round((1-results_gperkwh_b.varying_plugged[1000] / results_gperkwh_b.uncontrolled[1000]) * 100, 1)) +'\\% & ' + str(np.round((1-results_cascade_b.varying_plugged[1000] / results_gperkwh_b.uncontrolled[1000]) * 100, 1)) + '\\% & ' + str(np.round((1-results_gperkwh_aef_b.varying_plugged[1000] / results_gperkwh_b.uncontrolled[1000]) * 100, 1)) + '\\%  \\\\ ' + '\\\\')\n",
    "print('100,000    & ' + str(np.round((1-results_gperkwh_b.varying_plugged[100000] / results_gperkwh_b.uncontrolled[100000]) * 100, 1)) +'\\% & ' + str(np.round((1-results_cascade_b.varying_plugged[100000] / results_gperkwh_b.uncontrolled[100000]) * 100, 1)) +'\\% & '+ str(np.round((1-results_gperkwh_aef_b.varying_plugged[100000] / results_gperkwh_b.uncontrolled[100000]) * 100, 1)) + '\\%  \\\\ ' + '\\\\')\n",
    "print('500,000    & ' + str(np.round((1-results_gperkwh_b.varying_plugged[500000] / results_gperkwh_b.uncontrolled[500000]) * 100, 1)) +' \\% & ' + str(np.round((1-results_cascade_b.varying_plugged[500000] / results_gperkwh_b.uncontrolled[500000]) * 100, 1)) +'\\% & '+ str(np.round((1-results_gperkwh_aef_b.varying_plugged[500000] / results_gperkwh_b.uncontrolled[500000]) * 100, 1)) + '\\%  \\\\ ' + '\\\\')\n",
    "print('1,000,000  & ' + str(np.round((1-results_gperkwh_b.varying_plugged[1000000] / results_gperkwh_b.uncontrolled[1000000]) * 100, 1)) +' \\% & ' + str(np.round((1-results_cascade_b.varying_plugged[1000000] / results_gperkwh_b.uncontrolled[1000000]) * 100, 1)) +'\\% & '+ str(np.round((1-results_gperkwh_aef_b.varying_plugged[1000000] / results_gperkwh_b.uncontrolled[1000000]) * 100, 1)) + '\\%  \\\\ ' + '\\\\')\n",
    "print('1,500,000  & ' + str(np.round((1-results_gperkwh_b.varying_plugged[1500000] / results_gperkwh_b.uncontrolled[1500000]) * 100, 1)) +' \\% & ' + str(np.round((1-results_cascade_b.varying_plugged[1500000] / results_gperkwh_b.uncontrolled[1500000]) * 100, 1)) +'\\% & '+ str(np.round((1-results_gperkwh_aef_b.varying_plugged[1500000] / results_gperkwh_b.uncontrolled[1500000]) * 100, 1)) + '\\%  \\\\ ' + '\\\\')\n",
    "print('2,000,000  & ' +str(np.round((1-results_gperkwh_b.varying_plugged[2000000] / results_gperkwh_b.uncontrolled[2000000]) * 100, 1)) +' \\% & ' + str(np.round((1-results_cascade_b.varying_plugged[2000000] / results_gperkwh_b.uncontrolled[2000000]) * 100, 1)) +'\\% & '+ str(np.round((1-results_gperkwh_aef_b.varying_plugged[2000000] / results_gperkwh_b.uncontrolled[2000000]) * 100, 1)) + '\\%  \\\\ ' + '\\\\')\n"
   ]
  },
  {
   "cell_type": "code",
   "execution_count": null,
   "metadata": {},
   "outputs": [
    {
     "name": "stdout",
     "output_type": "stream",
     "text": [
      "1,000      & 480.0 & 394.6 & 459.2 & 394.9\\\\\n",
      "100,000    & 461.8 & 403.1 & 461.3 & 397.0\\\\\n",
      "500,000    & 460.8 & 436.4 & 462.5 & 406.2\\\\\n",
      "1,000,000  & 455.6 & 445.5 & 466.3 & 409.8\\\\\n",
      "1,500,000  & 459.3 & 448.1 & 470.5 & 409.1\\\\\n",
      "2,000,000  & 461.1 & 462.4 & 469.4 & 409.1\\\\\n"
     ]
    }
   ],
   "source": [
    "print('1,000      & '+ str(np.round(results_gperkwh_b.uncontrolled[1000],1))  +' & ' + str(np.round(results_gperkwh_b.varying_plugged[1000],1))       +' & ' + str(np.round(results_gperkwh_aef_b.varying_plugged[1000],1)) + ' & ' + str(np.round(results_cascade_b.varying_plugged[1000],1)) + '\\\\' + '\\\\')\n",
    "print('100,000    & '+ str(np.round(results_gperkwh_b.uncontrolled[100000],1))  +' & ' + str(np.round(results_gperkwh_b.varying_plugged[100000],1))   + ' & ' + str(np.round(results_gperkwh_aef_b.varying_plugged[100000],1)) + ' & ' + str(np.round(results_cascade_b.varying_plugged[100000],1)) + '\\\\' + '\\\\')\n",
    "print('500,000    & '+ str(np.round(results_gperkwh_b.uncontrolled[500000],1))  +' & ' + str(np.round(results_gperkwh_b.varying_plugged[500000],1))   + ' & ' + str(np.round(results_gperkwh_aef_b.varying_plugged[500000],1)) + ' & ' + str(np.round(results_cascade_b.varying_plugged[500000],1)) + '\\\\' + '\\\\')\n",
    "print('1,000,000  & '+ str(np.round(results_gperkwh_b.uncontrolled[1000000],1))  +' & ' + str(np.round(results_gperkwh_b.varying_plugged[1000000],1)) + ' & ' + str(np.round(results_gperkwh_aef_b.varying_plugged[1000000],1)) + ' & ' + str(np.round(results_cascade_b.varying_plugged[1000000],1)) + '\\\\' + '\\\\')\n",
    "print('1,500,000  & '+ str(np.round(results_gperkwh_b.uncontrolled[1500000],1))  +' & ' + str(np.round(results_gperkwh_b.varying_plugged[1500000],1)) + ' & ' + str(np.round(results_gperkwh_aef_b.varying_plugged[1500000],1)) + ' & ' + str(np.round(results_cascade_b.varying_plugged[1500000],1)) + '\\\\' + '\\\\')\n",
    "print('2,000,000  & '+ str(np.round(results_gperkwh_b.uncontrolled[2000000],1))  +' & ' + str(np.round(results_gperkwh_b.varying_plugged[2000000],1)) + ' & ' + str(np.round(results_gperkwh_aef_b.varying_plugged[2000000],1)) + ' & ' + str(np.round(results_cascade_b.varying_plugged[2000000],1)) + '\\\\' + '\\\\')\n"
   ]
  },
  {
   "cell_type": "markdown",
   "metadata": {},
   "source": [
    "## July 2020 tables"
   ]
  },
  {
   "cell_type": "code",
   "execution_count": null,
   "metadata": {},
   "outputs": [
    {
     "name": "stdout",
     "output_type": "stream",
     "text": [
      "1,000      & 25.8\\% & 26.2\\% & 8.1\\%  \\ \\\n",
      "100,000    & 15.7\\% & 22.3\\% & 13.4\\%  \\ \\\n",
      "500,000    & 8.3 \\% & 20.5\\% & 13.4\\%  \\ \\\n",
      "1,000,000  & -3.1 \\% & 19.4\\% & 12.7\\%  \\ \\\n",
      "1,500,000  & -5.3 \\% & 18.2\\% & 11.7\\%  \\ \\\n",
      "2,000,000  & -6.2 \\% & 17.8\\% & 9.9\\%  \\ \\\n"
     ]
    }
   ],
   "source": [
    "## print table MEF | Cascade | AEF:\n",
    "\n",
    "print('1,000      & ' + str(np.round((1-results_gperkwh_c.varying_plugged[1000] / results_gperkwh_c.uncontrolled[1000]) * 100, 1)) +'\\% & ' + str(np.round((1-results_cascade_c.varying_plugged[1000] / results_gperkwh_c.uncontrolled[1000]) * 100, 1)) + '\\% & ' + str(np.round((1-results_gperkwh_aef_c.varying_plugged[1000] / results_gperkwh_c.uncontrolled[1000]) * 100, 1)) + '\\%  \\\\ ' + '\\\\')\n",
    "print('100,000    & ' + str(np.round((1-results_gperkwh_c.varying_plugged[100000] / results_gperkwh_c.uncontrolled[100000]) * 100, 1)) +'\\% & ' + str(np.round((1-results_cascade_c.varying_plugged[100000] / results_gperkwh_c.uncontrolled[100000]) * 100, 1)) +'\\% & '+ str(np.round((1-results_gperkwh_aef_c.varying_plugged[100000] / results_gperkwh_c.uncontrolled[100000]) * 100, 1)) + '\\%  \\\\ ' + '\\\\')\n",
    "print('500,000    & ' + str(np.round((1-results_gperkwh_c.varying_plugged[500000] / results_gperkwh_c.uncontrolled[500000]) * 100, 1)) +' \\% & ' + str(np.round((1-results_cascade_c.varying_plugged[500000] / results_gperkwh_c.uncontrolled[500000]) * 100, 1)) +'\\% & '+ str(np.round((1-results_gperkwh_aef_c.varying_plugged[500000] / results_gperkwh_c.uncontrolled[500000]) * 100, 1)) + '\\%  \\\\ ' + '\\\\')\n",
    "print('1,000,000  & ' + str(np.round((1-results_gperkwh_c.varying_plugged[1000000] / results_gperkwh_c.uncontrolled[1000000]) * 100, 1)) +' \\% & ' + str(np.round((1-results_cascade_c.varying_plugged[1000000] / results_gperkwh_c.uncontrolled[1000000]) * 100, 1)) +'\\% & '+ str(np.round((1-results_gperkwh_aef_c.varying_plugged[1000000] / results_gperkwh_c.uncontrolled[1000000]) * 100, 1)) + '\\%  \\\\ ' + '\\\\')\n",
    "print('1,500,000  & ' + str(np.round((1-results_gperkwh_c.varying_plugged[1500000] / results_gperkwh_c.uncontrolled[1500000]) * 100, 1)) +' \\% & ' + str(np.round((1-results_cascade_c.varying_plugged[1500000] / results_gperkwh_c.uncontrolled[1500000]) * 100, 1)) +'\\% & '+ str(np.round((1-results_gperkwh_aef_c.varying_plugged[1500000] / results_gperkwh_c.uncontrolled[1500000]) * 100, 1)) + '\\%  \\\\ ' + '\\\\')\n",
    "print('2,000,000  & ' +str(np.round((1-results_gperkwh_c.varying_plugged[2000000] / results_gperkwh_c.uncontrolled[2000000]) * 100, 1)) +' \\% & ' + str(np.round((1-results_cascade_c.varying_plugged[2000000] / results_gperkwh_c.uncontrolled[2000000]) * 100, 1)) +'\\% & '+ str(np.round((1-results_gperkwh_aef_c.varying_plugged[2000000] / results_gperkwh_c.uncontrolled[2000000]) * 100, 1)) + '\\%  \\\\ ' + '\\\\')\n"
   ]
  },
  {
   "cell_type": "code",
   "execution_count": null,
   "metadata": {},
   "outputs": [
    {
     "name": "stdout",
     "output_type": "stream",
     "text": [
      "1,000      & 607.9 & 451.1 & 558.6 & 448.9\\\\\n",
      "100,000    & 602.8 & 508.3 & 521.9 & 468.1\\\\\n",
      "500,000    & 602.4 & 552.5 & 521.6 & 478.7\\\\\n",
      "1,000,000  & 594.7 & 613.1 & 519.3 & 479.3\\\\\n",
      "1,500,000  & 593.3 & 624.8 & 523.9 & 485.4\\\\\n",
      "2,000,000  & 599.6 & 637.1 & 540.2 & 492.9\\\\\n"
     ]
    }
   ],
   "source": [
    "print('1,000      & '+ str(np.round(results_gperkwh_c.uncontrolled[1000],1))  +' & ' + str(np.round(results_gperkwh_c.varying_plugged[1000],1))       +' & ' + str(np.round(results_gperkwh_aef_c.varying_plugged[1000],1)) + ' & ' + str(np.round(results_cascade_c.varying_plugged[1000],1)) + '\\\\' + '\\\\')\n",
    "print('100,000    & '+ str(np.round(results_gperkwh_c.uncontrolled[100000],1))  +' & ' + str(np.round(results_gperkwh_c.varying_plugged[100000],1))   + ' & ' + str(np.round(results_gperkwh_aef_c.varying_plugged[100000],1)) + ' & ' + str(np.round(results_cascade_c.varying_plugged[100000],1)) + '\\\\' + '\\\\')\n",
    "print('500,000    & '+ str(np.round(results_gperkwh_c.uncontrolled[500000],1))  +' & ' + str(np.round(results_gperkwh_c.varying_plugged[500000],1))   + ' & ' + str(np.round(results_gperkwh_aef_c.varying_plugged[500000],1)) + ' & ' + str(np.round(results_cascade_c.varying_plugged[500000],1)) + '\\\\' + '\\\\')\n",
    "print('1,000,000  & '+ str(np.round(results_gperkwh_c.uncontrolled[1000000],1))  +' & ' + str(np.round(results_gperkwh_c.varying_plugged[1000000],1)) + ' & ' + str(np.round(results_gperkwh_aef_c.varying_plugged[1000000],1)) + ' & ' + str(np.round(results_cascade_c.varying_plugged[1000000],1)) + '\\\\' + '\\\\')\n",
    "print('1,500,000  & '+ str(np.round(results_gperkwh_c.uncontrolled[1500000],1))  +' & ' + str(np.round(results_gperkwh_c.varying_plugged[1500000],1)) + ' & ' + str(np.round(results_gperkwh_aef_c.varying_plugged[1500000],1)) + ' & ' + str(np.round(results_cascade_c.varying_plugged[1500000],1)) + '\\\\' + '\\\\')\n",
    "print('2,000,000  & '+ str(np.round(results_gperkwh_c.uncontrolled[2000000],1))  +' & ' + str(np.round(results_gperkwh_c.varying_plugged[2000000],1)) + ' & ' + str(np.round(results_gperkwh_aef_c.varying_plugged[2000000],1)) + ' & ' + str(np.round(results_cascade_c.varying_plugged[2000000],1)) + '\\\\' + '\\\\')\n"
   ]
  },
  {
   "cell_type": "markdown",
   "metadata": {},
   "source": [
    "## July 2030 tables"
   ]
  },
  {
   "cell_type": "code",
   "execution_count": null,
   "metadata": {},
   "outputs": [
    {
     "name": "stdout",
     "output_type": "stream",
     "text": [
      "1,000      & 20.1\\% & 20.1\\% & 19.3\\%  \\ \\\n",
      "100,000    & 16.5\\% & 18.9\\% & 11.1\\%  \\ \\\n",
      "500,000    & 9.4 \\% & 14.0\\% & 13.2\\%  \\ \\\n",
      "1,000,000  & 4.1 \\% & 12.8\\% & 13.1\\%  \\ \\\n",
      "1,500,000  & 3.9 \\% & 12.8\\% & 14.4\\%  \\ \\\n",
      "2,000,000  & 2.8 \\% & 12.8\\% & 14.8\\%  \\ \\\n"
     ]
    }
   ],
   "source": [
    "## print table MEF | Cascade | AEF:\n",
    "\n",
    "print('1,000      & ' + str(np.round((1-results_gperkwh_d.varying_plugged[1000] / results_gperkwh_d.uncontrolled[1000]) * 100, 1)) +'\\% & ' + str(np.round((1-results_cascade_d.varying_plugged[1000] / results_gperkwh_d.uncontrolled[1000]) * 100, 1)) + '\\% & ' + str(np.round((1-results_gperkwh_aef_d.varying_plugged[1000] / results_gperkwh_d.uncontrolled[1000]) * 100, 1)) + '\\%  \\\\ ' + '\\\\')\n",
    "print('100,000    & ' + str(np.round((1-results_gperkwh_d.varying_plugged[100000] / results_gperkwh_d.uncontrolled[100000]) * 100, 1)) +'\\% & ' + str(np.round((1-results_cascade_d.varying_plugged[100000] / results_gperkwh_d.uncontrolled[100000]) * 100, 1)) +'\\% & '+ str(np.round((1-results_gperkwh_aef_d.varying_plugged[100000] / results_gperkwh_d.uncontrolled[100000]) * 100, 1)) + '\\%  \\\\ ' + '\\\\')\n",
    "print('500,000    & ' + str(np.round((1-results_gperkwh_d.varying_plugged[500000] / results_gperkwh_d.uncontrolled[500000]) * 100, 1)) +' \\% & ' + str(np.round((1-results_cascade_d.varying_plugged[500000] / results_gperkwh_d.uncontrolled[500000]) * 100, 1)) +'\\% & '+ str(np.round((1-results_gperkwh_aef_d.varying_plugged[500000] / results_gperkwh_d.uncontrolled[500000]) * 100, 1)) + '\\%  \\\\ ' + '\\\\')\n",
    "print('1,000,000  & ' + str(np.round((1-results_gperkwh_d.varying_plugged[1000000] / results_gperkwh_d.uncontrolled[1000000]) * 100, 1)) +' \\% & ' + str(np.round((1-results_cascade_d.varying_plugged[1000000] / results_gperkwh_d.uncontrolled[1000000]) * 100, 1)) +'\\% & '+ str(np.round((1-results_gperkwh_aef_d.varying_plugged[1000000] / results_gperkwh_d.uncontrolled[1000000]) * 100, 1)) + '\\%  \\\\ ' + '\\\\')\n",
    "print('1,500,000  & ' + str(np.round((1-results_gperkwh_d.varying_plugged[1500000] / results_gperkwh_d.uncontrolled[1500000]) * 100, 1)) +' \\% & ' + str(np.round((1-results_cascade_d.varying_plugged[1500000] / results_gperkwh_d.uncontrolled[1500000]) * 100, 1)) +'\\% & '+ str(np.round((1-results_gperkwh_aef_d.varying_plugged[1500000] / results_gperkwh_d.uncontrolled[1500000]) * 100, 1)) + '\\%  \\\\ ' + '\\\\')\n",
    "print('2,000,000  & ' +str(np.round((1-results_gperkwh_d.varying_plugged[2000000] / results_gperkwh_d.uncontrolled[2000000]) * 100, 1)) +' \\% & ' + str(np.round((1-results_cascade_d.varying_plugged[2000000] / results_gperkwh_d.uncontrolled[2000000]) * 100, 1)) +'\\% & '+ str(np.round((1-results_gperkwh_aef_d.varying_plugged[2000000] / results_gperkwh_d.uncontrolled[2000000]) * 100, 1)) + '\\%  \\\\ ' + '\\\\')\n"
   ]
  },
  {
   "cell_type": "code",
   "execution_count": null,
   "metadata": {},
   "outputs": [
    {
     "name": "stdout",
     "output_type": "stream",
     "text": [
      "1,000      & 485.3 & 387.6 & 391.9 & 387.6\\\\\n",
      "100,000    & 491.6 & 410.6 & 437.1 & 398.7\\\\\n",
      "500,000    & 491.7 & 445.5 & 426.6 & 422.7\\\\\n",
      "1,000,000  & 491.6 & 471.7 & 427.3 & 428.5\\\\\n",
      "1,500,000  & 495.4 & 476.2 & 424.3 & 431.9\\\\\n",
      "2,000,000  & 498.8 & 484.8 & 425.1 & 434.9\\\\\n"
     ]
    }
   ],
   "source": [
    "print('1,000      & '+ str(np.round(results_gperkwh_d.uncontrolled[1000],1))  +' & ' + str(np.round(results_gperkwh_d.varying_plugged[1000],1))       +' & ' + str(np.round(results_gperkwh_aef_d.varying_plugged[1000],1)) + ' & ' + str(np.round(results_cascade_d.varying_plugged[1000],1)) + '\\\\' + '\\\\')\n",
    "print('100,000    & '+ str(np.round(results_gperkwh_d.uncontrolled[100000],1))  +' & ' + str(np.round(results_gperkwh_d.varying_plugged[100000],1))   + ' & ' + str(np.round(results_gperkwh_aef_d.varying_plugged[100000],1)) + ' & ' + str(np.round(results_cascade_d.varying_plugged[100000],1)) + '\\\\' + '\\\\')\n",
    "print('500,000    & '+ str(np.round(results_gperkwh_d.uncontrolled[500000],1))  +' & ' + str(np.round(results_gperkwh_d.varying_plugged[500000],1))   + ' & ' + str(np.round(results_gperkwh_aef_d.varying_plugged[500000],1)) + ' & ' + str(np.round(results_cascade_d.varying_plugged[500000],1)) + '\\\\' + '\\\\')\n",
    "print('1,000,000  & '+ str(np.round(results_gperkwh_d.uncontrolled[1000000],1))  +' & ' + str(np.round(results_gperkwh_d.varying_plugged[1000000],1)) + ' & ' + str(np.round(results_gperkwh_aef_d.varying_plugged[1000000],1)) + ' & ' + str(np.round(results_cascade_d.varying_plugged[1000000],1)) + '\\\\' + '\\\\')\n",
    "print('1,500,000  & '+ str(np.round(results_gperkwh_d.uncontrolled[1500000],1))  +' & ' + str(np.round(results_gperkwh_d.varying_plugged[1500000],1)) + ' & ' + str(np.round(results_gperkwh_aef_d.varying_plugged[1500000],1)) + ' & ' + str(np.round(results_cascade_d.varying_plugged[1500000],1)) + '\\\\' + '\\\\')\n",
    "print('2,000,000  & '+ str(np.round(results_gperkwh_d.uncontrolled[2000000],1))  +' & ' + str(np.round(results_gperkwh_d.varying_plugged[2000000],1)) + ' & ' + str(np.round(results_gperkwh_aef_d.varying_plugged[2000000],1)) + ' & ' + str(np.round(results_cascade_d.varying_plugged[2000000],1)) + '\\\\' + '\\\\')\n"
   ]
  },
  {
   "cell_type": "code",
   "execution_count": null,
   "metadata": {},
   "outputs": [],
   "source": []
  }
 ],
 "metadata": {
  "kernelspec": {
   "display_name": ".venv",
   "language": "python",
   "name": "python3"
  },
  "language_info": {
   "codemirror_mode": {
    "name": "ipython",
    "version": 3
   },
   "file_extension": ".py",
   "mimetype": "text/x-python",
   "name": "python",
   "nbconvert_exporter": "python",
   "pygments_lexer": "ipython3",
   "version": "3.9.13"
  }
 },
 "nbformat": 4,
 "nbformat_minor": 2
}
