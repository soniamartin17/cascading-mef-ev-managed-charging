{
 "cells": [
  {
   "cell_type": "code",
   "execution_count": null,
   "metadata": {},
   "outputs": [],
   "source": [
    "import pandas as pd\n",
    "import numpy as np\n",
    "import matplotlib.pyplot as plt\n",
    "import pickle\n",
    "import matplotlib\n",
    "from scipy import integrate \n",
    "from simple_dispatch import bidStack\n",
    "from simple_dispatch import GridModel\n",
    "import matplotlib.transforms as transforms\n",
    "import warnings\n",
    "import datetime\n",
    "warnings.simplefilter(action='ignore', category=FutureWarning)\n",
    "colorset = ['#882255','#88CCEE','#332288', '#DDCC77',   '#CC6677','#44AA99', '#117733','#AA4499','#999933']"
   ]
  },
  {
   "attachments": {},
   "cell_type": "markdown",
   "metadata": {},
   "source": [
    "# Figure S1 "
   ]
  },
  {
   "cell_type": "code",
   "execution_count": null,
   "metadata": {},
   "outputs": [],
   "source": [
    "def plotBidStackMultiColor4(self, df_column, ax=None, xlim=86, save_str=None, show_legend=True, show_fig=True, xlab=False):    \n",
    "    \n",
    "    # adapted from Thomas Deetjen's code : https://github.com/tdeetjen/simple_dispatch\n",
    "    bs_df_fuel_color = self.df.copy()\n",
    "    \n",
    "    # Add column \"fuel_color\" to dataframe based on fuel type for each generator\n",
    "    legend_mapping = {'sub_st':'Subbituminous Coal', 'ng_ct':'Natural Gas Combined Cycle', \n",
    "                      'ng_gt':'Natural Gas Combustion Turbine', 'ng_st':'Natural Gas Boiler', \n",
    "                      'rc_st':'Refined Coal', 'bit_st':'Bituminous Coal', '_':'Other'}\n",
    "    c = {'ng': {'cc': colorset[0], 'ct': colorset[1], 'gt': colorset[2], 'st': colorset[3]}, 'sub': {'st': colorset[4]}, 'lig': {'st': str(colorset[5])}, 'bit': {'st': colorset[6]}, 'rc': {'st':  colorset[7]}}\n",
    "    bs_df_fuel_color['fuel_color'] = '#bcbddc'\n",
    "    for c_key in c.keys():\n",
    "        for p_key in c[c_key].keys():\n",
    "            bs_df_fuel_color.loc[(bs_df_fuel_color.fuel == c_key) & (bs_df_fuel_color.prime_mover == p_key), 'fuel_color'] = c[c_key][p_key]\n",
    "        empty_color = '#dd1c77'\n",
    "        color_2 = bs_df_fuel_color.fuel_color.replace('', empty_color)\n",
    "        \n",
    "    # prepare y depending on whether plotting cost or emissions\n",
    "    y_data_e = self.df.gen_cost * 0\n",
    "    if df_column == 'gen_cost':\n",
    "        y_lab = 'Generation Cost [$/MWh]'\n",
    "        y_data = self.df[df_column] - (self.df.co2_cost + self.df.so2_cost + self.df.nox_cost) #cost excluding emissions taxes\n",
    "    if df_column == 'co2':\n",
    "        y_lab = 'CO$_2$ Emissions [kg/MWh]'\n",
    "        y_data = self.df[df_column + str(self.time)]\n",
    "\n",
    "    # plot\n",
    "    if ax is None:\n",
    "        f, ax = matplotlib.pyplot.subplots(figsize=(4, 4))\n",
    "    # Bar chart: width of each is the capacity. Shift position by one indice so that the bar lines up to the left of its capacity. E.g. if the first one has capacity 10, the bar goes from 0 to 10 and the following bar starts from 10. \n",
    "    ax.bar((self.df['mw' + str(self.time)].cumsum()[:-1])/1000, height=y_data.values[1:], width=(self.df['mw' + str(self.time)].values[1:])/1000, color=color_2.values[1:], align='edge')\n",
    "    if show_legend:\n",
    "        color_legend = []\n",
    "        for c in bs_df_fuel_color.fuel_color.unique():# colorset:#['#e41a1c', '#ff7f00', '#252525', '#377eb8', '#4daf4a', '#984ea3', '#bcbddc']:#bs_df_fuel_color.fuel_color.unique():\n",
    "            color_legend.append(matplotlib.patches.Patch(color=c, label=legend_mapping[bs_df_fuel_color.fuel[bs_df_fuel_color.fuel_color==c].iloc[0] + '_' + bs_df_fuel_color.prime_mover[bs_df_fuel_color.fuel_color==c].iloc[0]]))\n",
    "        ax.legend(handles=color_legend, loc='upper left', ncol=1, fontsize=12)\n",
    "    ax.set_xlim(0, xlim)\n",
    "    if df_column == 'gen_cost':\n",
    "        ax.set_ylim(0, 90)\n",
    "        ax.set_yticks((0, 15, 30, 45, 60, 75, 90, 105))\n",
    "        ax.set_yticklabels((0, 15, 30, 45, 60, 75, 90, 105), fontsize=14)\n",
    "        ax.set_yticklabels((0, 15, 30, 45, 60, 75, 90, 105), fontsize=18)\n",
    "    elif df_column == 'co2':\n",
    "        ax.set_ylim(0, 1400)\n",
    "        ax.set_yticks((250, 500, 750, 1000, 1250))\n",
    "        ax.set_yticklabels((250, 500, 750, 1000, 1250), fontsize=14)\n",
    "        ax.set_yticklabels((250, 500, 750, 1000, 1250), fontsize=18)\n",
    "    if xlab:\n",
    "        ax.set_xlabel('Generation Capacity [GW]', fontsize=14)\n",
    "        ax.set_xlabel('Generation Capacity [GW]', fontsize=18)\n",
    "        ax.set_xticklabels((0, 10, 20, 30, 40, 50, 60, 70, 80, 90), fontsize=14)\n",
    "        ax.set_xticklabels((0, 10, 20, 30, 40, 50, 60, 70, 80, 90), fontsize=18)\n",
    "    else:\n",
    "        ax.set_xticklabels([])\n",
    "    ax.set_xticks((0, 10, 20, 30, 40, 50, 60, 70, 80, 90))\n",
    "    ax.set_ylabel(y_lab, fontsize=14)\n",
    "    #ax.set_ylabel(y_lab, fontsize=18)\n",
    "    \n",
    "    ax.set_axisbelow(True)        \n",
    "    ax.grid()\n",
    "\n",
    "    plt.tight_layout()\n",
    "    if save_str is not None:\n",
    "        plt.savefig(save_str, bbox_inches='tight')\n",
    "    if show_fig:\n",
    "        plt.show()\n",
    "    \n",
    "    return ax"
   ]
  },
  {
   "cell_type": "code",
   "execution_count": null,
   "metadata": {},
   "outputs": [],
   "source": [
    "gds = {}\n",
    "gds[2019] = pickle.load(open('Data/generator_data_short_WECC_2019.obj', 'rb'))\n",
    "gds[2020] = pickle.load(open('Data/generator_data_short_WECC_2020.obj', 'rb'))"
   ]
  },
  {
   "cell_type": "code",
   "execution_count": null,
   "metadata": {},
   "outputs": [],
   "source": [
    "#merit order variability visualization\n",
    "xlim = 90#86\n",
    "\n",
    "weeks = [2,3,4,5,28,29,30,31] #January and July week numbers\n",
    "f, axes = plt.subplots(len(weeks), 2, figsize=(14,24), sharex=True)\n",
    "\n",
    "plt.subplots_adjust(hspace=0.4)\n",
    "for i, week in  enumerate(weeks):\n",
    "    bs = bidStack(gds[2020], co2_dol_per_kg=0, time=week, dropNucHydroGeo=True, include_min_output=False, mdt_weight=0.5, include_easiur=False) \n",
    "    axes[i,0].set_title('Economic Dispatch Order,  Week '+str(week), fontsize=18)\n",
    "    axes[i,1].set_title('Corresponding Generator Emissions, Week '+str(week), fontsize=18)\n",
    "    if i==0:\n",
    "        axes[i,0] = plotBidStackMultiColor4(bs, 'gen_cost', ax=axes[i,0], show_legend=True, show_fig=False, xlab=True, xlim=xlim)\n",
    "    else:\n",
    "        axes[i,0] = plotBidStackMultiColor4(bs, 'gen_cost', ax=axes[i,0], show_legend=False, show_fig=False, xlab=True, xlim=xlim)\n",
    "    \n",
    "    axes[i,1] = plotBidStackMultiColor4(bs, 'co2', ax=axes[i,1], show_legend=False, show_fig=False, xlim=xlim, xlab=True, \n",
    "                                    save_str='Merit_Order/S1a_merit_variability.pdf')\n",
    "    "
   ]
  }
 ],
 "metadata": {
  "kernelspec": {
   "display_name": ".venv",
   "language": "python",
   "name": "python3"
  },
  "language_info": {
   "codemirror_mode": {
    "name": "ipython",
    "version": 3
   },
   "file_extension": ".py",
   "mimetype": "text/x-python",
   "name": "python",
   "nbconvert_exporter": "python",
   "pygments_lexer": "ipython3",
   "version": "3.9.13"
  },
  "orig_nbformat": 4
 },
 "nbformat": 4,
 "nbformat_minor": 2
}
